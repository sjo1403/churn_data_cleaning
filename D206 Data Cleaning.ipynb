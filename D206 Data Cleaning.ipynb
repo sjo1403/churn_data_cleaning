{
 "cells": [
  {
   "cell_type": "markdown",
   "id": "16f05dcf-08fb-463c-8e4e-f540ebfb7ee6",
   "metadata": {},
   "source": [
    "# Part One: Research Question"
   ]
  },
  {
   "cell_type": "markdown",
   "id": "4dac955d-86aa-4ac4-84e6-cec84d6b6908",
   "metadata": {},
   "source": [
    "## Section A: [Research question here...]"
   ]
  },
  {
   "cell_type": "markdown",
   "id": "d0734c30-470c-461c-9315-a936d5060b34",
   "metadata": {},
   "source": [
    "## Section B: Data Dictionary"
   ]
  },
  {
   "cell_type": "markdown",
   "id": "59f1a417-582e-4f0f-86d9-390db9779c17",
   "metadata": {},
   "source": [
    "# Part Two: Data Cleaning Plan"
   ]
  },
  {
   "cell_type": "markdown",
   "id": "71d34c96-a0ab-4ac5-9f10-b0facef1ae1a",
   "metadata": {},
   "source": [
    "## Section C.1: Techniques & Steps"
   ]
  },
  {
   "cell_type": "markdown",
   "id": "e578c149-0d58-4af2-9e8b-cb732fa2435a",
   "metadata": {
    "jp-MarkdownHeadingCollapsed": true,
    "tags": []
   },
   "source": [
    "### Techniques\n",
    "Identify Duplicated Rows\n",
    "\n",
    "Identify Missing Values\n",
    "\n",
    "Identify Outliers"
   ]
  },
  {
   "cell_type": "markdown",
   "id": "445b4d56-bc7b-4d1d-92a9-e4cba198e66c",
   "metadata": {
    "jp-MarkdownHeadingCollapsed": true,
    "tags": []
   },
   "source": [
    "### Duplicated Rows\n",
    "Use duplicated() and sum(duplicated) functions"
   ]
  },
  {
   "cell_type": "markdown",
   "id": "3d7f128f-3f9d-445e-a81e-d34b38f345e0",
   "metadata": {
    "jp-MarkdownHeadingCollapsed": true,
    "tags": []
   },
   "source": [
    "### Missing Values\n",
    "Use isnull.sum() and msno.matrix(df) to visualize"
   ]
  },
  {
   "cell_type": "markdown",
   "id": "cde825b2-8183-492c-9277-3a0ed04e5024",
   "metadata": {
    "jp-MarkdownHeadingCollapsed": true,
    "tags": []
   },
   "source": [
    "### Identify Outliers\n",
    "Use boxplot and z-scores"
   ]
  },
  {
   "cell_type": "markdown",
   "id": "083ce074-15ea-4e39-9986-2cefe35eb150",
   "metadata": {},
   "source": [
    "## Section C.2: Assessing Data Quality"
   ]
  },
  {
   "cell_type": "markdown",
   "id": "ab12eaac-cad7-47a9-8d1c-c940d95e5e7e",
   "metadata": {},
   "source": [
    "## Section C.3: Programming Environment"
   ]
  },
  {
   "cell_type": "markdown",
   "id": "04605f2b-accc-4dc6-ae91-916ff7bcbc6b",
   "metadata": {},
   "source": [
    "## Section C.4: Code"
   ]
  },
  {
   "cell_type": "code",
   "execution_count": 3,
   "id": "254dd912-b102-4467-8a38-e148e076625e",
   "metadata": {},
   "outputs": [],
   "source": [
    "# import pandas library\n",
    "import pandas as pd"
   ]
  },
  {
   "cell_type": "code",
   "execution_count": 4,
   "id": "b515cbe3-8470-4268-bcdf-3c1b490fe18b",
   "metadata": {},
   "outputs": [],
   "source": [
    "# read churn data into DataFrame\n",
    "df = pd.read_csv('source files/churn_raw_data.csv', header='infer')"
   ]
  },
  {
   "cell_type": "code",
   "execution_count": 5,
   "id": "082e89e8-cf5e-4abe-9b5e-d6eddbc3718b",
   "metadata": {},
   "outputs": [
    {
     "data": {
      "text/plain": [
       "(10000, 52)"
      ]
     },
     "execution_count": 5,
     "metadata": {},
     "output_type": "execute_result"
    }
   ],
   "source": [
    "# get shape (rows & columns) of the DataFrame\n",
    "df.shape"
   ]
  },
  {
   "cell_type": "code",
   "execution_count": 6,
   "id": "e33ebbd0-6e6d-4b9e-bc66-b463a438454c",
   "metadata": {},
   "outputs": [
    {
     "data": {
      "text/html": [
       "<div>\n",
       "<style scoped>\n",
       "    .dataframe tbody tr th:only-of-type {\n",
       "        vertical-align: middle;\n",
       "    }\n",
       "\n",
       "    .dataframe tbody tr th {\n",
       "        vertical-align: top;\n",
       "    }\n",
       "\n",
       "    .dataframe thead th {\n",
       "        text-align: right;\n",
       "    }\n",
       "</style>\n",
       "<table border=\"1\" class=\"dataframe\">\n",
       "  <thead>\n",
       "    <tr style=\"text-align: right;\">\n",
       "      <th></th>\n",
       "      <th>Unnamed: 0</th>\n",
       "      <th>CaseOrder</th>\n",
       "      <th>Customer_id</th>\n",
       "      <th>Interaction</th>\n",
       "      <th>City</th>\n",
       "      <th>State</th>\n",
       "      <th>County</th>\n",
       "      <th>Zip</th>\n",
       "      <th>Lat</th>\n",
       "      <th>Lng</th>\n",
       "      <th>...</th>\n",
       "      <th>MonthlyCharge</th>\n",
       "      <th>Bandwidth_GB_Year</th>\n",
       "      <th>item1</th>\n",
       "      <th>item2</th>\n",
       "      <th>item3</th>\n",
       "      <th>item4</th>\n",
       "      <th>item5</th>\n",
       "      <th>item6</th>\n",
       "      <th>item7</th>\n",
       "      <th>item8</th>\n",
       "    </tr>\n",
       "  </thead>\n",
       "  <tbody>\n",
       "    <tr>\n",
       "      <th>0</th>\n",
       "      <td>1</td>\n",
       "      <td>1</td>\n",
       "      <td>K409198</td>\n",
       "      <td>aa90260b-4141-4a24-8e36-b04ce1f4f77b</td>\n",
       "      <td>Point Baker</td>\n",
       "      <td>AK</td>\n",
       "      <td>Prince of Wales-Hyder</td>\n",
       "      <td>99927</td>\n",
       "      <td>56.25100</td>\n",
       "      <td>-133.37571</td>\n",
       "      <td>...</td>\n",
       "      <td>171.449762</td>\n",
       "      <td>904.536110</td>\n",
       "      <td>5</td>\n",
       "      <td>5</td>\n",
       "      <td>5</td>\n",
       "      <td>3</td>\n",
       "      <td>4</td>\n",
       "      <td>4</td>\n",
       "      <td>3</td>\n",
       "      <td>4</td>\n",
       "    </tr>\n",
       "    <tr>\n",
       "      <th>1</th>\n",
       "      <td>2</td>\n",
       "      <td>2</td>\n",
       "      <td>S120509</td>\n",
       "      <td>fb76459f-c047-4a9d-8af9-e0f7d4ac2524</td>\n",
       "      <td>West Branch</td>\n",
       "      <td>MI</td>\n",
       "      <td>Ogemaw</td>\n",
       "      <td>48661</td>\n",
       "      <td>44.32893</td>\n",
       "      <td>-84.24080</td>\n",
       "      <td>...</td>\n",
       "      <td>242.948015</td>\n",
       "      <td>800.982766</td>\n",
       "      <td>3</td>\n",
       "      <td>4</td>\n",
       "      <td>3</td>\n",
       "      <td>3</td>\n",
       "      <td>4</td>\n",
       "      <td>3</td>\n",
       "      <td>4</td>\n",
       "      <td>4</td>\n",
       "    </tr>\n",
       "    <tr>\n",
       "      <th>2</th>\n",
       "      <td>3</td>\n",
       "      <td>3</td>\n",
       "      <td>K191035</td>\n",
       "      <td>344d114c-3736-4be5-98f7-c72c281e2d35</td>\n",
       "      <td>Yamhill</td>\n",
       "      <td>OR</td>\n",
       "      <td>Yamhill</td>\n",
       "      <td>97148</td>\n",
       "      <td>45.35589</td>\n",
       "      <td>-123.24657</td>\n",
       "      <td>...</td>\n",
       "      <td>159.440398</td>\n",
       "      <td>2054.706961</td>\n",
       "      <td>4</td>\n",
       "      <td>4</td>\n",
       "      <td>2</td>\n",
       "      <td>4</td>\n",
       "      <td>4</td>\n",
       "      <td>3</td>\n",
       "      <td>3</td>\n",
       "      <td>3</td>\n",
       "    </tr>\n",
       "    <tr>\n",
       "      <th>3</th>\n",
       "      <td>4</td>\n",
       "      <td>4</td>\n",
       "      <td>D90850</td>\n",
       "      <td>abfa2b40-2d43-4994-b15a-989b8c79e311</td>\n",
       "      <td>Del Mar</td>\n",
       "      <td>CA</td>\n",
       "      <td>San Diego</td>\n",
       "      <td>92014</td>\n",
       "      <td>32.96687</td>\n",
       "      <td>-117.24798</td>\n",
       "      <td>...</td>\n",
       "      <td>120.249493</td>\n",
       "      <td>2164.579412</td>\n",
       "      <td>4</td>\n",
       "      <td>4</td>\n",
       "      <td>4</td>\n",
       "      <td>2</td>\n",
       "      <td>5</td>\n",
       "      <td>4</td>\n",
       "      <td>3</td>\n",
       "      <td>3</td>\n",
       "    </tr>\n",
       "    <tr>\n",
       "      <th>4</th>\n",
       "      <td>5</td>\n",
       "      <td>5</td>\n",
       "      <td>K662701</td>\n",
       "      <td>68a861fd-0d20-4e51-a587-8a90407ee574</td>\n",
       "      <td>Needville</td>\n",
       "      <td>TX</td>\n",
       "      <td>Fort Bend</td>\n",
       "      <td>77461</td>\n",
       "      <td>29.38012</td>\n",
       "      <td>-95.80673</td>\n",
       "      <td>...</td>\n",
       "      <td>150.761216</td>\n",
       "      <td>271.493436</td>\n",
       "      <td>4</td>\n",
       "      <td>4</td>\n",
       "      <td>4</td>\n",
       "      <td>3</td>\n",
       "      <td>4</td>\n",
       "      <td>4</td>\n",
       "      <td>4</td>\n",
       "      <td>5</td>\n",
       "    </tr>\n",
       "  </tbody>\n",
       "</table>\n",
       "<p>5 rows × 52 columns</p>\n",
       "</div>"
      ],
      "text/plain": [
       "   Unnamed: 0  CaseOrder Customer_id                           Interaction  \\\n",
       "0           1          1     K409198  aa90260b-4141-4a24-8e36-b04ce1f4f77b   \n",
       "1           2          2     S120509  fb76459f-c047-4a9d-8af9-e0f7d4ac2524   \n",
       "2           3          3     K191035  344d114c-3736-4be5-98f7-c72c281e2d35   \n",
       "3           4          4      D90850  abfa2b40-2d43-4994-b15a-989b8c79e311   \n",
       "4           5          5     K662701  68a861fd-0d20-4e51-a587-8a90407ee574   \n",
       "\n",
       "          City State                 County    Zip       Lat        Lng  ...  \\\n",
       "0  Point Baker    AK  Prince of Wales-Hyder  99927  56.25100 -133.37571  ...   \n",
       "1  West Branch    MI                 Ogemaw  48661  44.32893  -84.24080  ...   \n",
       "2      Yamhill    OR                Yamhill  97148  45.35589 -123.24657  ...   \n",
       "3      Del Mar    CA              San Diego  92014  32.96687 -117.24798  ...   \n",
       "4    Needville    TX              Fort Bend  77461  29.38012  -95.80673  ...   \n",
       "\n",
       "   MonthlyCharge Bandwidth_GB_Year item1 item2  item3  item4 item5 item6  \\\n",
       "0     171.449762        904.536110     5     5      5      3     4     4   \n",
       "1     242.948015        800.982766     3     4      3      3     4     3   \n",
       "2     159.440398       2054.706961     4     4      2      4     4     3   \n",
       "3     120.249493       2164.579412     4     4      4      2     5     4   \n",
       "4     150.761216        271.493436     4     4      4      3     4     4   \n",
       "\n",
       "   item7 item8  \n",
       "0      3     4  \n",
       "1      4     4  \n",
       "2      3     3  \n",
       "3      3     3  \n",
       "4      4     5  \n",
       "\n",
       "[5 rows x 52 columns]"
      ]
     },
     "execution_count": 6,
     "metadata": {},
     "output_type": "execute_result"
    }
   ],
   "source": [
    "# get header and first 5 rows of the DataFrame\n",
    "df.head(5)"
   ]
  },
  {
   "cell_type": "code",
   "execution_count": 7,
   "id": "f62275a4-604e-43f7-be36-b4fae0b216d8",
   "metadata": {},
   "outputs": [
    {
     "name": "stdout",
     "output_type": "stream",
     "text": [
      "<class 'pandas.core.frame.DataFrame'>\n",
      "RangeIndex: 10000 entries, 0 to 9999\n",
      "Data columns (total 52 columns):\n",
      " #   Column                Non-Null Count  Dtype  \n",
      "---  ------                --------------  -----  \n",
      " 0   Unnamed: 0            10000 non-null  int64  \n",
      " 1   CaseOrder             10000 non-null  int64  \n",
      " 2   Customer_id           10000 non-null  object \n",
      " 3   Interaction           10000 non-null  object \n",
      " 4   City                  10000 non-null  object \n",
      " 5   State                 10000 non-null  object \n",
      " 6   County                10000 non-null  object \n",
      " 7   Zip                   10000 non-null  int64  \n",
      " 8   Lat                   10000 non-null  float64\n",
      " 9   Lng                   10000 non-null  float64\n",
      " 10  Population            10000 non-null  int64  \n",
      " 11  Area                  10000 non-null  object \n",
      " 12  Timezone              10000 non-null  object \n",
      " 13  Job                   10000 non-null  object \n",
      " 14  Children              7505 non-null   float64\n",
      " 15  Age                   7525 non-null   float64\n",
      " 16  Education             10000 non-null  object \n",
      " 17  Employment            10000 non-null  object \n",
      " 18  Income                7510 non-null   float64\n",
      " 19  Marital               10000 non-null  object \n",
      " 20  Gender                10000 non-null  object \n",
      " 21  Churn                 10000 non-null  object \n",
      " 22  Outage_sec_perweek    10000 non-null  float64\n",
      " 23  Email                 10000 non-null  int64  \n",
      " 24  Contacts              10000 non-null  int64  \n",
      " 25  Yearly_equip_failure  10000 non-null  int64  \n",
      " 26  Techie                7523 non-null   object \n",
      " 27  Contract              10000 non-null  object \n",
      " 28  Port_modem            10000 non-null  object \n",
      " 29  Tablet                10000 non-null  object \n",
      " 30  InternetService       10000 non-null  object \n",
      " 31  Phone                 8974 non-null   object \n",
      " 32  Multiple              10000 non-null  object \n",
      " 33  OnlineSecurity        10000 non-null  object \n",
      " 34  OnlineBackup          10000 non-null  object \n",
      " 35  DeviceProtection      10000 non-null  object \n",
      " 36  TechSupport           9009 non-null   object \n",
      " 37  StreamingTV           10000 non-null  object \n",
      " 38  StreamingMovies       10000 non-null  object \n",
      " 39  PaperlessBilling      10000 non-null  object \n",
      " 40  PaymentMethod         10000 non-null  object \n",
      " 41  Tenure                9069 non-null   float64\n",
      " 42  MonthlyCharge         10000 non-null  float64\n",
      " 43  Bandwidth_GB_Year     8979 non-null   float64\n",
      " 44  item1                 10000 non-null  int64  \n",
      " 45  item2                 10000 non-null  int64  \n",
      " 46  item3                 10000 non-null  int64  \n",
      " 47  item4                 10000 non-null  int64  \n",
      " 48  item5                 10000 non-null  int64  \n",
      " 49  item6                 10000 non-null  int64  \n",
      " 50  item7                 10000 non-null  int64  \n",
      " 51  item8                 10000 non-null  int64  \n",
      "dtypes: float64(9), int64(15), object(28)\n",
      "memory usage: 4.0+ MB\n"
     ]
    }
   ],
   "source": [
    "# view information about the DataFrame\n",
    "df.info()"
   ]
  },
  {
   "cell_type": "markdown",
   "id": "fa4d9324-a89c-438f-a5b5-ccfca0ec4367",
   "metadata": {
    "jp-MarkdownHeadingCollapsed": true,
    "tags": []
   },
   "source": [
    "### Duplicated Rows"
   ]
  },
  {
   "cell_type": "code",
   "execution_count": 8,
   "id": "cfe529ed-9919-4809-a2d6-f8f065c1c2d9",
   "metadata": {},
   "outputs": [
    {
     "data": {
      "text/html": [
       "<div>\n",
       "<style scoped>\n",
       "    .dataframe tbody tr th:only-of-type {\n",
       "        vertical-align: middle;\n",
       "    }\n",
       "\n",
       "    .dataframe tbody tr th {\n",
       "        vertical-align: top;\n",
       "    }\n",
       "\n",
       "    .dataframe thead th {\n",
       "        text-align: right;\n",
       "    }\n",
       "</style>\n",
       "<table border=\"1\" class=\"dataframe\">\n",
       "  <thead>\n",
       "    <tr style=\"text-align: right;\">\n",
       "      <th></th>\n",
       "      <th>Unnamed: 0</th>\n",
       "      <th>CaseOrder</th>\n",
       "      <th>Customer_id</th>\n",
       "      <th>Interaction</th>\n",
       "      <th>City</th>\n",
       "      <th>State</th>\n",
       "      <th>County</th>\n",
       "      <th>Zip</th>\n",
       "      <th>Lat</th>\n",
       "      <th>Lng</th>\n",
       "      <th>...</th>\n",
       "      <th>MonthlyCharge</th>\n",
       "      <th>Bandwidth_GB_Year</th>\n",
       "      <th>item1</th>\n",
       "      <th>item2</th>\n",
       "      <th>item3</th>\n",
       "      <th>item4</th>\n",
       "      <th>item5</th>\n",
       "      <th>item6</th>\n",
       "      <th>item7</th>\n",
       "      <th>item8</th>\n",
       "    </tr>\n",
       "  </thead>\n",
       "  <tbody>\n",
       "  </tbody>\n",
       "</table>\n",
       "<p>0 rows × 52 columns</p>\n",
       "</div>"
      ],
      "text/plain": [
       "Empty DataFrame\n",
       "Columns: [Unnamed: 0, CaseOrder, Customer_id, Interaction, City, State, County, Zip, Lat, Lng, Population, Area, Timezone, Job, Children, Age, Education, Employment, Income, Marital, Gender, Churn, Outage_sec_perweek, Email, Contacts, Yearly_equip_failure, Techie, Contract, Port_modem, Tablet, InternetService, Phone, Multiple, OnlineSecurity, OnlineBackup, DeviceProtection, TechSupport, StreamingTV, StreamingMovies, PaperlessBilling, PaymentMethod, Tenure, MonthlyCharge, Bandwidth_GB_Year, item1, item2, item3, item4, item5, item6, item7, item8]\n",
       "Index: []\n",
       "\n",
       "[0 rows x 52 columns]"
      ]
     },
     "execution_count": 8,
     "metadata": {},
     "output_type": "execute_result"
    }
   ],
   "source": [
    "# return duplicated rows\n",
    "df[df.duplicated() == True]"
   ]
  },
  {
   "cell_type": "code",
   "execution_count": 9,
   "id": "a6e1ab4e-8e59-4cd4-a96f-d66de14971ad",
   "metadata": {},
   "outputs": [
    {
     "data": {
      "text/html": [
       "<div>\n",
       "<style scoped>\n",
       "    .dataframe tbody tr th:only-of-type {\n",
       "        vertical-align: middle;\n",
       "    }\n",
       "\n",
       "    .dataframe tbody tr th {\n",
       "        vertical-align: top;\n",
       "    }\n",
       "\n",
       "    .dataframe thead th {\n",
       "        text-align: right;\n",
       "    }\n",
       "</style>\n",
       "<table border=\"1\" class=\"dataframe\">\n",
       "  <thead>\n",
       "    <tr style=\"text-align: right;\">\n",
       "      <th></th>\n",
       "      <th>Unnamed: 0</th>\n",
       "      <th>CaseOrder</th>\n",
       "      <th>Customer_id</th>\n",
       "      <th>Interaction</th>\n",
       "      <th>City</th>\n",
       "      <th>State</th>\n",
       "      <th>County</th>\n",
       "      <th>Zip</th>\n",
       "      <th>Lat</th>\n",
       "      <th>Lng</th>\n",
       "      <th>...</th>\n",
       "      <th>MonthlyCharge</th>\n",
       "      <th>Bandwidth_GB_Year</th>\n",
       "      <th>item1</th>\n",
       "      <th>item2</th>\n",
       "      <th>item3</th>\n",
       "      <th>item4</th>\n",
       "      <th>item5</th>\n",
       "      <th>item6</th>\n",
       "      <th>item7</th>\n",
       "      <th>item8</th>\n",
       "    </tr>\n",
       "  </thead>\n",
       "  <tbody>\n",
       "  </tbody>\n",
       "</table>\n",
       "<p>0 rows × 52 columns</p>\n",
       "</div>"
      ],
      "text/plain": [
       "Empty DataFrame\n",
       "Columns: [Unnamed: 0, CaseOrder, Customer_id, Interaction, City, State, County, Zip, Lat, Lng, Population, Area, Timezone, Job, Children, Age, Education, Employment, Income, Marital, Gender, Churn, Outage_sec_perweek, Email, Contacts, Yearly_equip_failure, Techie, Contract, Port_modem, Tablet, InternetService, Phone, Multiple, OnlineSecurity, OnlineBackup, DeviceProtection, TechSupport, StreamingTV, StreamingMovies, PaperlessBilling, PaymentMethod, Tenure, MonthlyCharge, Bandwidth_GB_Year, item1, item2, item3, item4, item5, item6, item7, item8]\n",
       "Index: []\n",
       "\n",
       "[0 rows x 52 columns]"
      ]
     },
     "execution_count": 9,
     "metadata": {},
     "output_type": "execute_result"
    }
   ],
   "source": [
    "# check for records with duplicates in Customer_id column\n",
    "df[df.duplicated(subset='Customer_id') == True]"
   ]
  },
  {
   "cell_type": "markdown",
   "id": "034aaf14-f662-4436-8ffe-7abc8091dcad",
   "metadata": {
    "tags": []
   },
   "source": [
    "### Missing Values"
   ]
  },
  {
   "cell_type": "code",
   "execution_count": 10,
   "id": "63febd31-f40f-4395-abae-65ae36530c48",
   "metadata": {},
   "outputs": [
    {
     "data": {
      "text/plain": [
       "Unnamed: 0                 0\n",
       "CaseOrder                  0\n",
       "Customer_id                0\n",
       "Interaction                0\n",
       "City                       0\n",
       "State                      0\n",
       "County                     0\n",
       "Zip                        0\n",
       "Lat                        0\n",
       "Lng                        0\n",
       "Population                 0\n",
       "Area                       0\n",
       "Timezone                   0\n",
       "Job                        0\n",
       "Children                2495\n",
       "Age                     2475\n",
       "Education                  0\n",
       "Employment                 0\n",
       "Income                  2490\n",
       "Marital                    0\n",
       "Gender                     0\n",
       "Churn                      0\n",
       "Outage_sec_perweek         0\n",
       "Email                      0\n",
       "Contacts                   0\n",
       "Yearly_equip_failure       0\n",
       "Techie                  2477\n",
       "Contract                   0\n",
       "Port_modem                 0\n",
       "Tablet                     0\n",
       "InternetService            0\n",
       "Phone                   1026\n",
       "Multiple                   0\n",
       "OnlineSecurity             0\n",
       "OnlineBackup               0\n",
       "DeviceProtection           0\n",
       "TechSupport              991\n",
       "StreamingTV                0\n",
       "StreamingMovies            0\n",
       "PaperlessBilling           0\n",
       "PaymentMethod              0\n",
       "Tenure                   931\n",
       "MonthlyCharge              0\n",
       "Bandwidth_GB_Year       1021\n",
       "item1                      0\n",
       "item2                      0\n",
       "item3                      0\n",
       "item4                      0\n",
       "item5                      0\n",
       "item6                      0\n",
       "item7                      0\n",
       "item8                      0\n",
       "dtype: int64"
      ]
     },
     "execution_count": 10,
     "metadata": {},
     "output_type": "execute_result"
    }
   ],
   "source": [
    "# find the sum of missing values for each column\n",
    "df.isnull().sum()"
   ]
  },
  {
   "cell_type": "code",
   "execution_count": 11,
   "id": "3fd058f8-510d-442e-980c-8c58e7bac423",
   "metadata": {
    "tags": []
   },
   "outputs": [],
   "source": [
    "# install missingno using pip\n",
    "# !pip install missingno"
   ]
  },
  {
   "cell_type": "code",
   "execution_count": 12,
   "id": "f9793fa9-2827-4d8f-a7e1-0764c980a6b5",
   "metadata": {},
   "outputs": [],
   "source": [
    "# import missingno to visualize missing values\n",
    "import missingno as msno"
   ]
  },
  {
   "cell_type": "code",
   "execution_count": 13,
   "id": "426107f8-46fe-4590-9076-c60bcc737037",
   "metadata": {},
   "outputs": [
    {
     "data": {
      "text/plain": [
       "Children             2495\n",
       "Age                  2475\n",
       "Income               2490\n",
       "Techie               2477\n",
       "Phone                1026\n",
       "TechSupport           991\n",
       "Tenure                931\n",
       "Bandwidth_GB_Year    1021\n",
       "dtype: int64"
      ]
     },
     "execution_count": 13,
     "metadata": {},
     "output_type": "execute_result"
    }
   ],
   "source": [
    "# isolate columns with missing values and add them to a new DataFrame\n",
    "df_missing = df.loc[:, df.isnull().sum() > 0]\n",
    "df_missing.isnull().sum()"
   ]
  },
  {
   "cell_type": "code",
   "execution_count": 14,
   "id": "f709e8a3-c397-417a-a2c0-01c3e8f126e1",
   "metadata": {},
   "outputs": [
    {
     "data": {
      "text/plain": [
       "<Axes: >"
      ]
     },
     "execution_count": 14,
     "metadata": {},
     "output_type": "execute_result"
    },
    {
     "data": {
      "image/png": "[encoded data removed]",
      "text/plain": [
       "<Figure size 2500x1000 with 2 Axes>"
      ]
     },
     "metadata": {},
     "output_type": "display_data"
    }
   ],
   "source": [
    "# generate matrix of missing values\n",
    "msno.matrix(df_missing)"
   ]
  },
  {
   "cell_type": "code",
   "execution_count": 15,
   "id": "424f8528-8426-4634-b211-da7c5c5635f7",
   "metadata": {},
   "outputs": [
    {
     "data": {
      "text/plain": [
       "array([[<Axes: title={'center': 'Children'}>,\n",
       "        <Axes: title={'center': 'Age'}>,\n",
       "        <Axes: title={'center': 'Income'}>,\n",
       "        <Axes: title={'center': 'Tenure'}>,\n",
       "        <Axes: title={'center': 'Bandwidth_GB_Year'}>]], dtype=object)"
      ]
     },
     "execution_count": 15,
     "metadata": {},
     "output_type": "execute_result"
    },
    {
     "data": {
      "image/png": "[encoded data removed]",
      "text/plain": [
       "<Figure size 1500x200 with 5 Axes>"
      ]
     },
     "metadata": {},
     "output_type": "display_data"
    }
   ],
   "source": [
    "# use histograms to check columns in df_missing for skewness\n",
    "df_missing.hist(figsize=(15,2), layout=(1,5))"
   ]
  },
  {
   "cell_type": "markdown",
   "id": "5f78f578-cdc7-43c1-be2b-9216e12c3879",
   "metadata": {
    "tags": []
   },
   "source": [
    "### Outliers"
   ]
  },
  {
   "cell_type": "code",
   "execution_count": 16,
   "id": "877ed8df-d341-4626-b3ee-34792b8c24bb",
   "metadata": {},
   "outputs": [
    {
     "data": {
      "text/html": [
       "<div>\n",
       "<style scoped>\n",
       "    .dataframe tbody tr th:only-of-type {\n",
       "        vertical-align: middle;\n",
       "    }\n",
       "\n",
       "    .dataframe tbody tr th {\n",
       "        vertical-align: top;\n",
       "    }\n",
       "\n",
       "    .dataframe thead th {\n",
       "        text-align: right;\n",
       "    }\n",
       "</style>\n",
       "<table border=\"1\" class=\"dataframe\">\n",
       "  <thead>\n",
       "    <tr style=\"text-align: right;\">\n",
       "      <th></th>\n",
       "      <th>Children</th>\n",
       "      <th>Age</th>\n",
       "      <th>Income</th>\n",
       "      <th>Outage_sec_perweek</th>\n",
       "      <th>Email</th>\n",
       "      <th>Contacts</th>\n",
       "      <th>Yearly_equip_failure</th>\n",
       "      <th>Tenure</th>\n",
       "      <th>MonthlyCharge</th>\n",
       "      <th>Bandwidth_GB_Year</th>\n",
       "    </tr>\n",
       "  </thead>\n",
       "  <tbody>\n",
       "    <tr>\n",
       "      <th>0</th>\n",
       "      <td>NaN</td>\n",
       "      <td>68.0</td>\n",
       "      <td>28561.99</td>\n",
       "      <td>6.972566</td>\n",
       "      <td>10</td>\n",
       "      <td>0</td>\n",
       "      <td>1</td>\n",
       "      <td>6.795513</td>\n",
       "      <td>171.449762</td>\n",
       "      <td>904.536110</td>\n",
       "    </tr>\n",
       "    <tr>\n",
       "      <th>1</th>\n",
       "      <td>1.0</td>\n",
       "      <td>27.0</td>\n",
       "      <td>21704.77</td>\n",
       "      <td>12.014541</td>\n",
       "      <td>12</td>\n",
       "      <td>0</td>\n",
       "      <td>1</td>\n",
       "      <td>1.156681</td>\n",
       "      <td>242.948015</td>\n",
       "      <td>800.982766</td>\n",
       "    </tr>\n",
       "    <tr>\n",
       "      <th>2</th>\n",
       "      <td>4.0</td>\n",
       "      <td>50.0</td>\n",
       "      <td>NaN</td>\n",
       "      <td>10.245616</td>\n",
       "      <td>9</td>\n",
       "      <td>0</td>\n",
       "      <td>1</td>\n",
       "      <td>15.754144</td>\n",
       "      <td>159.440398</td>\n",
       "      <td>2054.706961</td>\n",
       "    </tr>\n",
       "    <tr>\n",
       "      <th>3</th>\n",
       "      <td>1.0</td>\n",
       "      <td>48.0</td>\n",
       "      <td>18925.23</td>\n",
       "      <td>15.206193</td>\n",
       "      <td>15</td>\n",
       "      <td>2</td>\n",
       "      <td>0</td>\n",
       "      <td>17.087227</td>\n",
       "      <td>120.249493</td>\n",
       "      <td>2164.579412</td>\n",
       "    </tr>\n",
       "    <tr>\n",
       "      <th>4</th>\n",
       "      <td>0.0</td>\n",
       "      <td>83.0</td>\n",
       "      <td>40074.19</td>\n",
       "      <td>8.960316</td>\n",
       "      <td>16</td>\n",
       "      <td>2</td>\n",
       "      <td>1</td>\n",
       "      <td>1.670972</td>\n",
       "      <td>150.761216</td>\n",
       "      <td>271.493436</td>\n",
       "    </tr>\n",
       "  </tbody>\n",
       "</table>\n",
       "</div>"
      ],
      "text/plain": [
       "   Children   Age    Income  Outage_sec_perweek  Email  Contacts  \\\n",
       "0       NaN  68.0  28561.99            6.972566     10         0   \n",
       "1       1.0  27.0  21704.77           12.014541     12         0   \n",
       "2       4.0  50.0       NaN           10.245616      9         0   \n",
       "3       1.0  48.0  18925.23           15.206193     15         2   \n",
       "4       0.0  83.0  40074.19            8.960316     16         2   \n",
       "\n",
       "   Yearly_equip_failure     Tenure  MonthlyCharge  Bandwidth_GB_Year  \n",
       "0                     1   6.795513     171.449762         904.536110  \n",
       "1                     1   1.156681     242.948015         800.982766  \n",
       "2                     1  15.754144     159.440398        2054.706961  \n",
       "3                     0  17.087227     120.249493        2164.579412  \n",
       "4                     1   1.670972     150.761216         271.493436  "
      ]
     },
     "execution_count": 16,
     "metadata": {},
     "output_type": "execute_result"
    }
   ],
   "source": [
    "# isolate columns with numerical data relevant for outlier analysis\n",
    "df_numericals = df[['Children', \n",
    "                    'Age', \n",
    "                    'Income', \n",
    "                    'Outage_sec_perweek', \n",
    "                    'Email', \n",
    "                    'Contacts', \n",
    "                    'Yearly_equip_failure', \n",
    "                    'Tenure', \n",
    "                    'MonthlyCharge', \n",
    "                    'Bandwidth_GB_Year']]\n",
    "\n",
    "df_numericals.head(5)"
   ]
  },
  {
   "cell_type": "code",
   "execution_count": 17,
   "id": "2e3b3d29-f32a-4100-8008-731926043cd7",
   "metadata": {},
   "outputs": [
    {
     "data": {
      "text/plain": [
       "<Axes: >"
      ]
     },
     "execution_count": 17,
     "metadata": {},
     "output_type": "execute_result"
    },
    {
     "data": {
      "image/png": "[encoded data removed]",
      "text/plain": [
       "<Figure size 640x480 with 1 Axes>"
      ]
     },
     "metadata": {},
     "output_type": "display_data"
    }
   ],
   "source": [
    "df_numericals.boxplot(column='Children')"
   ]
  },
  {
   "cell_type": "code",
   "execution_count": 18,
   "id": "a5115752-7b1c-4d4e-9d2e-57c4e7cc8d35",
   "metadata": {},
   "outputs": [
    {
     "data": {
      "text/plain": [
       "<Axes: >"
      ]
     },
     "execution_count": 18,
     "metadata": {},
     "output_type": "execute_result"
    },
    {
     "data": {
      "image/png": "[encoded data removed]",
      "text/plain": [
       "<Figure size 640x480 with 1 Axes>"
      ]
     },
     "metadata": {},
     "output_type": "display_data"
    }
   ],
   "source": [
    "df_numericals.boxplot(column='Age')"
   ]
  },
  {
   "cell_type": "code",
   "execution_count": 19,
   "id": "5b215e23-bb85-457f-a828-d0c8c7c2d9e1",
   "metadata": {},
   "outputs": [
    {
     "data": {
      "text/plain": [
       "<Axes: >"
      ]
     },
     "execution_count": 19,
     "metadata": {},
     "output_type": "execute_result"
    },
    {
     "data": {
      "image/png": "[encoded data removed]",
      "text/plain": [
       "<Figure size 640x480 with 1 Axes>"
      ]
     },
     "metadata": {},
     "output_type": "display_data"
    }
   ],
   "source": [
    "df_numericals.boxplot(column='Income')"
   ]
  },
  {
   "cell_type": "code",
   "execution_count": 20,
   "id": "eb313e82-dc33-4685-89b2-3c0e2caba46d",
   "metadata": {},
   "outputs": [
    {
     "data": {
      "text/plain": [
       "<Axes: >"
      ]
     },
     "execution_count": 20,
     "metadata": {},
     "output_type": "execute_result"
    },
    {
     "data": {
      "image/png": "[encoded data removed]",
      "text/plain": [
       "<Figure size 640x480 with 1 Axes>"
      ]
     },
     "metadata": {},
     "output_type": "display_data"
    }
   ],
   "source": [
    "df_numericals.boxplot(column='Outage_sec_perweek')"
   ]
  },
  {
   "cell_type": "code",
   "execution_count": 21,
   "id": "4cfd4f9f-d15c-4739-9d27-9c566d9f1838",
   "metadata": {},
   "outputs": [
    {
     "data": {
      "text/plain": [
       "<Axes: >"
      ]
     },
     "execution_count": 21,
     "metadata": {},
     "output_type": "execute_result"
    },
    {
     "data": {
      "image/png": "[encoded data removed]",
      "text/plain": [
       "<Figure size 640x480 with 1 Axes>"
      ]
     },
     "metadata": {},
     "output_type": "display_data"
    }
   ],
   "source": [
    "df_numericals.boxplot(column='Email')"
   ]
  },
  {
   "cell_type": "code",
   "execution_count": 22,
   "id": "5ba31c46-bacf-4355-a904-f4864ace386e",
   "metadata": {},
   "outputs": [
    {
     "data": {
      "text/plain": [
       "<Axes: >"
      ]
     },
     "execution_count": 22,
     "metadata": {},
     "output_type": "execute_result"
    },
    {
     "data": {
      "image/png": "[encoded data removed]",
      "text/plain": [
       "<Figure size 640x480 with 1 Axes>"
      ]
     },
     "metadata": {},
     "output_type": "display_data"
    }
   ],
   "source": [
    "df_numericals.boxplot(column='Contacts')"
   ]
  },
  {
   "cell_type": "code",
   "execution_count": 23,
   "id": "018753c1-26a6-43bf-9ff1-21ecc86b851c",
   "metadata": {},
   "outputs": [
    {
     "data": {
      "text/plain": [
       "<Axes: >"
      ]
     },
     "execution_count": 23,
     "metadata": {},
     "output_type": "execute_result"
    },
    {
     "data": {
      "image/png": "[encoded data removed]",
      "text/plain": [
       "<Figure size 640x480 with 1 Axes>"
      ]
     },
     "metadata": {},
     "output_type": "display_data"
    }
   ],
   "source": [
    "df_numericals.boxplot(column='Yearly_equip_failure')"
   ]
  },
  {
   "cell_type": "code",
   "execution_count": 24,
   "id": "321ab381-69ae-4e79-85e5-6a1ead543697",
   "metadata": {},
   "outputs": [
    {
     "data": {
      "text/plain": [
       "<Axes: >"
      ]
     },
     "execution_count": 24,
     "metadata": {},
     "output_type": "execute_result"
    },
    {
     "data": {
      "image/png": "[encoded data removed]",
      "text/plain": [
       "<Figure size 640x480 with 1 Axes>"
      ]
     },
     "metadata": {},
     "output_type": "display_data"
    }
   ],
   "source": [
    "df_numericals.boxplot(column='Tenure')"
   ]
  },
  {
   "cell_type": "code",
   "execution_count": 25,
   "id": "c09d2d11-ab72-40cc-aba0-87e7c0424dd7",
   "metadata": {},
   "outputs": [
    {
     "data": {
      "text/plain": [
       "<Axes: >"
      ]
     },
     "execution_count": 25,
     "metadata": {},
     "output_type": "execute_result"
    },
    {
     "data": {
      "image/png": "[encoded data removed]",
      "text/plain": [
       "<Figure size 640x480 with 1 Axes>"
      ]
     },
     "metadata": {},
     "output_type": "display_data"
    }
   ],
   "source": [
    "df_numericals.boxplot(column='MonthlyCharge')"
   ]
  },
  {
   "cell_type": "code",
   "execution_count": 26,
   "id": "3226f063-68de-4843-b39e-c19bbf1b96be",
   "metadata": {},
   "outputs": [
    {
     "data": {
      "text/plain": [
       "<Axes: >"
      ]
     },
     "execution_count": 26,
     "metadata": {},
     "output_type": "execute_result"
    },
    {
     "data": {
      "image/png": "[encoded data removed]",
      "text/plain": [
       "<Figure size 640x480 with 1 Axes>"
      ]
     },
     "metadata": {},
     "output_type": "display_data"
    }
   ],
   "source": [
    "df_numericals.boxplot(column='Bandwidth_GB_Year')"
   ]
  },
  {
   "cell_type": "code",
   "execution_count": 27,
   "id": "75ecadd0-fed0-4327-823a-b15a5572f2ff",
   "metadata": {},
   "outputs": [],
   "source": [
    "# import scipy.stats to calculate z-scores\n",
    "from scipy import stats"
   ]
  },
  {
   "cell_type": "code",
   "execution_count": 28,
   "id": "8eeb4714-4e94-4d25-aac3-b9a73a54e566",
   "metadata": {},
   "outputs": [],
   "source": [
    "# create a new DataFrame to hold z-scores for columns that contain outliers\n",
    "data = {\n",
    "    'Children':[], \n",
    "    'Income':[], \n",
    "    'Outage_sec_perweek':[], \n",
    "    'Email':[], \n",
    "    'Contacts':[], \n",
    "    'Yearly_equip_failure':[],  \n",
    "    'MonthlyCharge':[]\n",
    "       }\n",
    "\n",
    "df_zscores = pd.DataFrame(data)"
   ]
  },
  {
   "cell_type": "code",
   "execution_count": 29,
   "id": "3720c0b1-242b-41e8-a96c-78f795058757",
   "metadata": {},
   "outputs": [
    {
     "data": {
      "text/html": [
       "<div>\n",
       "<style scoped>\n",
       "    .dataframe tbody tr th:only-of-type {\n",
       "        vertical-align: middle;\n",
       "    }\n",
       "\n",
       "    .dataframe tbody tr th {\n",
       "        vertical-align: top;\n",
       "    }\n",
       "\n",
       "    .dataframe thead th {\n",
       "        text-align: right;\n",
       "    }\n",
       "</style>\n",
       "<table border=\"1\" class=\"dataframe\">\n",
       "  <thead>\n",
       "    <tr style=\"text-align: right;\">\n",
       "      <th></th>\n",
       "      <th>Children</th>\n",
       "      <th>Income</th>\n",
       "      <th>Outage_sec_perweek</th>\n",
       "      <th>Email</th>\n",
       "      <th>Contacts</th>\n",
       "      <th>Yearly_equip_failure</th>\n",
       "      <th>MonthlyCharge</th>\n",
       "    </tr>\n",
       "  </thead>\n",
       "  <tbody>\n",
       "    <tr>\n",
       "      <th>0</th>\n",
       "      <td>NaN</td>\n",
       "      <td>-0.401133</td>\n",
       "      <td>-0.637726</td>\n",
       "      <td>-0.666282</td>\n",
       "      <td>-1.005852</td>\n",
       "      <td>0.946658</td>\n",
       "      <td>-0.060613</td>\n",
       "    </tr>\n",
       "    <tr>\n",
       "      <th>1</th>\n",
       "      <td>-0.508646</td>\n",
       "      <td>-0.642955</td>\n",
       "      <td>0.079935</td>\n",
       "      <td>-0.005288</td>\n",
       "      <td>-1.005852</td>\n",
       "      <td>0.946658</td>\n",
       "      <td>1.589348</td>\n",
       "    </tr>\n",
       "    <tr>\n",
       "      <th>2</th>\n",
       "      <td>0.883715</td>\n",
       "      <td>NaN</td>\n",
       "      <td>-0.171849</td>\n",
       "      <td>-0.996779</td>\n",
       "      <td>-1.005852</td>\n",
       "      <td>0.946658</td>\n",
       "      <td>-0.337752</td>\n",
       "    </tr>\n",
       "    <tr>\n",
       "      <th>3</th>\n",
       "      <td>-0.508646</td>\n",
       "      <td>-0.740976</td>\n",
       "      <td>0.534225</td>\n",
       "      <td>0.986203</td>\n",
       "      <td>1.017588</td>\n",
       "      <td>-0.625864</td>\n",
       "      <td>-1.242158</td>\n",
       "    </tr>\n",
       "    <tr>\n",
       "      <th>4</th>\n",
       "      <td>-0.972766</td>\n",
       "      <td>0.004846</td>\n",
       "      <td>-0.354795</td>\n",
       "      <td>1.316700</td>\n",
       "      <td>1.017588</td>\n",
       "      <td>0.946658</td>\n",
       "      <td>-0.538041</td>\n",
       "    </tr>\n",
       "  </tbody>\n",
       "</table>\n",
       "</div>"
      ],
      "text/plain": [
       "   Children    Income  Outage_sec_perweek     Email  Contacts  \\\n",
       "0       NaN -0.401133           -0.637726 -0.666282 -1.005852   \n",
       "1 -0.508646 -0.642955            0.079935 -0.005288 -1.005852   \n",
       "2  0.883715       NaN           -0.171849 -0.996779 -1.005852   \n",
       "3 -0.508646 -0.740976            0.534225  0.986203  1.017588   \n",
       "4 -0.972766  0.004846           -0.354795  1.316700  1.017588   \n",
       "\n",
       "   Yearly_equip_failure  MonthlyCharge  \n",
       "0              0.946658      -0.060613  \n",
       "1              0.946658       1.589348  \n",
       "2              0.946658      -0.337752  \n",
       "3             -0.625864      -1.242158  \n",
       "4              0.946658      -0.538041  "
      ]
     },
     "execution_count": 29,
     "metadata": {},
     "output_type": "execute_result"
    }
   ],
   "source": [
    "# add z-scores to df_zscores\n",
    "df_zscores['Children'] = stats.zscore(df_numericals['Children'], nan_policy='omit')\n",
    "df_zscores['Income'] = stats.zscore(df_numericals['Income'], nan_policy='omit')\n",
    "df_zscores['Outage_sec_perweek'] = stats.zscore(df_numericals['Outage_sec_perweek'], nan_policy='omit')\n",
    "df_zscores['Email'] = stats.zscore(df_numericals['Email'], nan_policy='omit')\n",
    "df_zscores['Contacts'] = stats.zscore(df_numericals['Contacts'], nan_policy='omit')\n",
    "df_zscores['Yearly_equip_failure'] = stats.zscore(df_numericals['Yearly_equip_failure'], nan_policy='omit')\n",
    "df_zscores['MonthlyCharge'] = stats.zscore(df_numericals['MonthlyCharge'], nan_policy='omit')\n",
    "\n",
    "df_zscores.head(5)"
   ]
  },
  {
   "cell_type": "code",
   "execution_count": 30,
   "id": "1162fb7d-3954-4400-9a1f-ce637362854f",
   "metadata": {},
   "outputs": [
    {
     "data": {
      "text/plain": [
       "144"
      ]
     },
     "execution_count": 30,
     "metadata": {},
     "output_type": "execute_result"
    }
   ],
   "source": [
    "# return records where absolute value of z-score is greater than or equal to 3, Children column\n",
    "children_outliers = df_zscores[df_zscores['Children'].abs() > 3]['Children']\n",
    "children_outliers.count()"
   ]
  },
  {
   "cell_type": "code",
   "execution_count": 31,
   "id": "ba39c2ea-2006-45f7-a8be-27293a7306a7",
   "metadata": {},
   "outputs": [
    {
     "data": {
      "text/plain": [
       "110"
      ]
     },
     "execution_count": 31,
     "metadata": {},
     "output_type": "execute_result"
    }
   ],
   "source": [
    "# return records where absolute value of z-score is greater than or equal to 3, Income column\n",
    "income_outliers = df_zscores[df_zscores['Income'].abs() > 3]['Income']\n",
    "income_outliers.count()"
   ]
  },
  {
   "cell_type": "code",
   "execution_count": 32,
   "id": "773ae2e4-4296-4574-8de1-9fba21ceb8b1",
   "metadata": {},
   "outputs": [
    {
     "data": {
      "text/plain": [
       "491"
      ]
     },
     "execution_count": 32,
     "metadata": {},
     "output_type": "execute_result"
    }
   ],
   "source": [
    "# return records where absolute value of z-score is greater than or equal to 3, Outage_sec_perweek column\n",
    "outage_outliers = df_zscores[df_zscores['Outage_sec_perweek'].abs() > 3]['Outage_sec_perweek']\n",
    "outage_outliers.count()"
   ]
  },
  {
   "cell_type": "code",
   "execution_count": 33,
   "id": "7aa2af2c-a00e-4816-b597-28a18a758ff8",
   "metadata": {},
   "outputs": [
    {
     "data": {
      "text/plain": [
       "12"
      ]
     },
     "execution_count": 33,
     "metadata": {},
     "output_type": "execute_result"
    }
   ],
   "source": [
    "# return records where absolute value of z-score is greater than or equal to 3, Email column\n",
    "email_outliers = df_zscores[df_zscores['Email'].abs() > 3]['Email']\n",
    "email_outliers.count()"
   ]
  },
  {
   "cell_type": "code",
   "execution_count": 34,
   "id": "c6ac37ee-aa2c-471b-bef0-c7d4288d74cb",
   "metadata": {},
   "outputs": [
    {
     "data": {
      "text/plain": [
       "165"
      ]
     },
     "execution_count": 34,
     "metadata": {},
     "output_type": "execute_result"
    }
   ],
   "source": [
    "# return records where absolute value of z-score is greater than or equal to 3, Contacts column\n",
    "contacts_outliers = df_zscores[df_zscores['Contacts'].abs() > 3]['Contacts']\n",
    "contacts_outliers.count()"
   ]
  },
  {
   "cell_type": "code",
   "execution_count": 35,
   "id": "41e55be9-e016-44e4-8105-31793575ffda",
   "metadata": {},
   "outputs": [
    {
     "data": {
      "text/plain": [
       "94"
      ]
     },
     "execution_count": 35,
     "metadata": {},
     "output_type": "execute_result"
    }
   ],
   "source": [
    "# return records where absolute value of z-score is greater than or equal to 3, Yearly_equip_failure column\n",
    "failure_outliers = df_zscores[df_zscores['Yearly_equip_failure'].abs() > 3]['Yearly_equip_failure']\n",
    "failure_outliers.count()"
   ]
  },
  {
   "cell_type": "code",
   "execution_count": 36,
   "id": "40f116ba-c49c-4ea3-8a06-ba50c2b9c09f",
   "metadata": {},
   "outputs": [
    {
     "data": {
      "text/plain": [
       "3"
      ]
     },
     "execution_count": 36,
     "metadata": {},
     "output_type": "execute_result"
    }
   ],
   "source": [
    "# return records where absolute value of z-score is greater than or equal to 3, MonthlyCharge column\n",
    "charge_outliers = df_zscores[df_zscores['MonthlyCharge'].abs() > 3]['MonthlyCharge']\n",
    "charge_outliers.count()"
   ]
  },
  {
   "cell_type": "markdown",
   "id": "87fc5f58-840d-454e-b55d-b9c088f78d93",
   "metadata": {},
   "source": [
    "# Part Three: Data Cleaning"
   ]
  },
  {
   "cell_type": "markdown",
   "id": "fe3a0ab1-c160-469b-af91-4be1c9a7d04d",
   "metadata": {},
   "source": [
    "## Section D.1: Data Quality Findings"
   ]
  },
  {
   "cell_type": "markdown",
   "id": "6d1817c9-7152-46e2-8c47-628dfcf2597b",
   "metadata": {
    "tags": []
   },
   "source": [
    "### Duplicates\n",
    "\n",
    "No duplicates were found."
   ]
  },
  {
   "cell_type": "markdown",
   "id": "53a4bd80-6221-44b6-93e8-348ea92f40cc",
   "metadata": {
    "tags": []
   },
   "source": [
    "### Missing Values\n",
    "\n",
    "Missing values were found for the following features:\n",
    "- Children\n",
    "- Age\n",
    "- Income\n",
    "- Techie\n",
    "- Phone\n",
    "- TechSupport\n",
    "- Tenure\n",
    "- Bandwidth_GB_Year"
   ]
  },
  {
   "cell_type": "markdown",
   "id": "dec65d04-d9f4-4221-837b-187cc1a0d88a",
   "metadata": {},
   "source": [
    "### Outliers\n",
    "\n",
    "The following features contained outliers:\n",
    "- Children\n",
    "- Income\n",
    "- Outage_sec_perweek \n",
    "- Email \n",
    "- Contacts \n",
    "- Yearly_equip_failure\n",
    "- MonthlyCharge"
   ]
  },
  {
   "cell_type": "markdown",
   "id": "2bcdc1bb-f77b-4abc-893c-23893bb28ea4",
   "metadata": {},
   "source": [
    "## Section D.2: Methods "
   ]
  },
  {
   "cell_type": "markdown",
   "id": "79693c7d-75e2-4f79-8ae5-1a2a78316817",
   "metadata": {},
   "source": [
    "### Duplicates\n",
    "\n",
    "Since no duplicates were found, it is not necessary to implement methods to handle duplicate values."
   ]
  },
  {
   "cell_type": "markdown",
   "id": "8886a7e6-755b-4021-887d-a80b8dd9f591",
   "metadata": {},
   "source": [
    "### Missing Values\n",
    "\n",
    "Depending on the data type and characteristics of the data, different methods will be used to handle missing values.\n",
    "\n",
    "### Qualitative Data\n",
    "\n",
    "Features with the qualitative data type are:\n",
    "- Techie\n",
    "- Phone\n",
    "- TechSupport\n",
    "\n",
    "Missing values for these features will be imputed using the mode.\n",
    "### Quantitative Data: Uniform Distribution\n",
    "\n",
    "Age is the only uniform feature with the quantitative data type. Missing values for this feature will be imputed using random values within the range of Age.\n",
    "### Quantitative Data: Skewed & Bi-Modal Distribution\n",
    "Features with the quantitative data type are:\n",
    "- Children\n",
    "- Income\n",
    "- Tenure\n",
    "- Bandwidth_GB_Year\n",
    "\n",
    "Missing values for these features will be imputed using the median."
   ]
  },
  {
   "cell_type": "markdown",
   "id": "fc913733-e420-4cca-8522-baae4daeb339",
   "metadata": {
    "jp-MarkdownHeadingCollapsed": true,
    "tags": []
   },
   "source": [
    "### Outliers\n",
    "If there is indication that a set of outliers are the result of error or illegitimate entry, records containing these outliers will be removed from the dataset. Otherwise, such outliers will be retained.\n",
    "\n",
    "### Indication of Illegitimacy\n",
    "For this project, illegitimacy will be determined based on the volume of outliers found in a given feature. It is assumed that if a feature contains a sparse number of outliers, then those outliers are illegitimate. In Section C.4: Outliers, queries were performed to identify the number of outliers in each feature.\n",
    "\n",
    "### Illegitimate Outliers\n",
    "The features MonthlyCharge and Email contained relatively few outliers (3 and 12, respectively). Records containing these outliers will be removed from the dataset.\n",
    "\n",
    "### Legitimate Outliers\n",
    "Each of the following features contained more than 100 outliers:\n",
    "- Children\n",
    "- Income\n",
    "- Outage_sec_perweek\n",
    "- Email\n",
    "- Contacts\n",
    "- Yearly_equip_failure\n",
    "- MonthlyCharge\n",
    "\n",
    "These features will be retained in the dataset."
   ]
  },
  {
   "cell_type": "markdown",
   "id": "d748a151-781d-4b99-929c-8a2ab5ae01a1",
   "metadata": {
    "tags": []
   },
   "source": [
    "## Section D.3: Code "
   ]
  },
  {
   "cell_type": "markdown",
   "id": "22c6dda0-2709-4bb8-b8d7-738f18302891",
   "metadata": {},
   "source": [
    "### Handling Missing Values"
   ]
  },
  {
   "cell_type": "code",
   "execution_count": 37,
   "id": "53a9a2aa-48b2-4bf3-8d71-c9749d63a328",
   "metadata": {},
   "outputs": [],
   "source": [
    "# fill missing values for the Techie, Phone, and TechSupport using the mode\n",
    "df['Techie'].fillna(df['Techie'].mode()[0], inplace=True)\n",
    "df['Phone'].fillna(df['Phone'].mode()[0], inplace=True)\n",
    "df['TechSupport'].fillna(df['TechSupport'].mode()[0], inplace=True)"
   ]
  },
  {
   "cell_type": "code",
   "execution_count": 38,
   "id": "06baa0e0-838f-4a79-af0e-56fbba107bc6",
   "metadata": {},
   "outputs": [
    {
     "data": {
      "text/plain": [
       "Techie         0\n",
       "Phone          0\n",
       "TechSupport    0\n",
       "dtype: int64"
      ]
     },
     "execution_count": 38,
     "metadata": {},
     "output_type": "execute_result"
    }
   ],
   "source": [
    "# verify Techie, Phone, and TechSupport do not contain missing values\n",
    "df[['Techie', 'Phone', 'TechSupport']].isnull().sum()"
   ]
  },
  {
   "cell_type": "code",
   "execution_count": 39,
   "id": "69ae2392-91a6-4e1b-ba1c-ade6b3ac04bd",
   "metadata": {},
   "outputs": [
    {
     "data": {
      "text/plain": [
       "count    7525.000000\n",
       "mean       53.275748\n",
       "std        20.753928\n",
       "min        18.000000\n",
       "25%        35.000000\n",
       "50%        53.000000\n",
       "75%        71.000000\n",
       "max        89.000000\n",
       "Name: Age, dtype: float64"
      ]
     },
     "execution_count": 39,
     "metadata": {},
     "output_type": "execute_result"
    }
   ],
   "source": [
    "# get rage of Age feature\n",
    "df['Age'].describe()"
   ]
  },
  {
   "cell_type": "code",
   "execution_count": 40,
   "id": "d39ae12f-547a-47d6-8211-d053844fda3c",
   "metadata": {},
   "outputs": [],
   "source": [
    "# import numpy to generate random integers\n",
    "import numpy as np"
   ]
  },
  {
   "cell_type": "code",
   "execution_count": 41,
   "id": "ccd52e74-4efa-424e-b2ac-fc4399d968ae",
   "metadata": {},
   "outputs": [],
   "source": [
    "# fill missing values for Age using random values within the range\n",
    "age_min = 18\n",
    "age_max = 90\n",
    "size = df['Age'].isnull().sum()\n",
    "\n",
    "# create random array using numpy\n",
    "rand_array = np.random.randint(age_min, age_max, size)\n",
    "\n",
    "# create DataFrame to fillna with\n",
    "values = df[df['Age'].isnull()][['Age']]\n",
    "values.insert(0, 'rand_int', rand_array)\n",
    "\n",
    "df['Age'].fillna(value=values['rand_int'], inplace=True)"
   ]
  },
  {
   "cell_type": "code",
   "execution_count": 42,
   "id": "b63b7047-556d-4f63-a47f-3eeeddf524b0",
   "metadata": {},
   "outputs": [
    {
     "data": {
      "text/plain": [
       "0"
      ]
     },
     "execution_count": 42,
     "metadata": {},
     "output_type": "execute_result"
    }
   ],
   "source": [
    "# verify Age does not contain missing values\n",
    "df['Age'].isnull().sum()"
   ]
  },
  {
   "cell_type": "code",
   "execution_count": 43,
   "id": "6d81f5f9-ce7e-4860-a29b-93b6a7050b70",
   "metadata": {},
   "outputs": [
    {
     "data": {
      "text/plain": [
       "<Axes: >"
      ]
     },
     "execution_count": 43,
     "metadata": {},
     "output_type": "execute_result"
    },
    {
     "data": {
      "image/png": "[encoded data removed]",
      "text/plain": [
       "<Figure size 640x480 with 1 Axes>"
      ]
     },
     "metadata": {},
     "output_type": "display_data"
    }
   ],
   "source": [
    "df['Age'].hist()"
   ]
  },
  {
   "cell_type": "code",
   "execution_count": 44,
   "id": "80a30191-97a1-4686-b533-fccfe4186aa9",
   "metadata": {},
   "outputs": [],
   "source": [
    "# fill missing values for Children, Income, Tenure, Bandwidth_GB_Year using the median\n",
    "df['Children'].fillna(df['Children'].median(), inplace=True)\n",
    "df['Income'].fillna(df['Income'].median(), inplace=True)\n",
    "df['Tenure'].fillna(df['Tenure'].median(), inplace=True)\n",
    "df['Bandwidth_GB_Year'].fillna(df['Bandwidth_GB_Year'].median(), inplace=True)"
   ]
  },
  {
   "cell_type": "code",
   "execution_count": 45,
   "id": "9a27e013-f1db-4609-8844-d0dc901caa41",
   "metadata": {},
   "outputs": [
    {
     "data": {
      "text/plain": [
       "Children             0\n",
       "Income               0\n",
       "Tenure               0\n",
       "Bandwidth_GB_Year    0\n",
       "dtype: int64"
      ]
     },
     "execution_count": 45,
     "metadata": {},
     "output_type": "execute_result"
    }
   ],
   "source": [
    "# verify Children, Income, Tenure, and Bandwidth_GB_Year do not contain missing values\n",
    "df[['Children', 'Income', 'Tenure', 'Bandwidth_GB_Year']].isnull().sum()"
   ]
  },
  {
   "cell_type": "code",
   "execution_count": 46,
   "id": "f48b94cc-10c9-4a4c-92f2-4e65f9584278",
   "metadata": {},
   "outputs": [
    {
     "data": {
      "text/plain": [
       "array([[<Axes: title={'center': 'Children'}>,\n",
       "        <Axes: title={'center': 'Income'}>],\n",
       "       [<Axes: title={'center': 'Tenure'}>,\n",
       "        <Axes: title={'center': 'Bandwidth_GB_Year'}>]], dtype=object)"
      ]
     },
     "execution_count": 46,
     "metadata": {},
     "output_type": "execute_result"
    },
    {
     "data": {
      "image/png": "[encoded data removed]",
      "text/plain": [
       "<Figure size 640x480 with 4 Axes>"
      ]
     },
     "metadata": {},
     "output_type": "display_data"
    }
   ],
   "source": [
    "df[['Children', 'Income', 'Tenure', 'Bandwidth_GB_Year']].hist()"
   ]
  },
  {
   "cell_type": "markdown",
   "id": "03736636-3c8a-4230-bc24-8385ab650412",
   "metadata": {},
   "source": [
    "### Handling Outliers"
   ]
  },
  {
   "cell_type": "code",
   "execution_count": 47,
   "id": "edd17c9b-a115-4ff6-8de0-118ecae756d9",
   "metadata": {},
   "outputs": [],
   "source": [
    "# remove outliers from the MonthlyCharge and Email columns\n",
    "df.drop(index=charge_outliers.index, inplace=True)\n",
    "df.drop(index=email_outliers.index, inplace=True)"
   ]
  },
  {
   "cell_type": "code",
   "execution_count": 48,
   "id": "d15f9150-8470-48a5-9234-c2c48736067c",
   "metadata": {},
   "outputs": [
    {
     "data": {
      "text/plain": [
       "<Axes: >"
      ]
     },
     "execution_count": 48,
     "metadata": {},
     "output_type": "execute_result"
    },
    {
     "data": {
      "image/png": "[encoded data removed]",
      "text/plain": [
       "<Figure size 640x480 with 1 Axes>"
      ]
     },
     "metadata": {},
     "output_type": "display_data"
    }
   ],
   "source": [
    "# verify outliers have been removed from MonthlyCharge\n",
    "df[['MonthlyCharge']].boxplot()"
   ]
  },
  {
   "cell_type": "code",
   "execution_count": 49,
   "id": "54f14686-a032-4e1e-be0f-47b4b76a12d6",
   "metadata": {},
   "outputs": [
    {
     "data": {
      "text/plain": [
       "<Axes: >"
      ]
     },
     "execution_count": 49,
     "metadata": {},
     "output_type": "execute_result"
    },
    {
     "data": {
      "image/png": "[encoded data removed]",
      "text/plain": [
       "<Figure size 640x480 with 1 Axes>"
      ]
     },
     "metadata": {},
     "output_type": "display_data"
    }
   ],
   "source": [
    "# verify outliers have been removed from Email\n",
    "df[['Email']].boxplot()"
   ]
  },
  {
   "cell_type": "markdown",
   "id": "ec707399-3e2e-4718-8155-c771239436cd",
   "metadata": {},
   "source": [
    "### Re-Expression of Categorical Variables"
   ]
  },
  {
   "cell_type": "code",
   "execution_count": 80,
   "id": "2e070192-d581-41e7-9dc7-007570e8031f",
   "metadata": {
    "tags": []
   },
   "outputs": [
    {
     "data": {
      "text/html": [
       "<div>\n",
       "<style scoped>\n",
       "    .dataframe tbody tr th:only-of-type {\n",
       "        vertical-align: middle;\n",
       "    }\n",
       "\n",
       "    .dataframe tbody tr th {\n",
       "        vertical-align: top;\n",
       "    }\n",
       "\n",
       "    .dataframe thead th {\n",
       "        text-align: right;\n",
       "    }\n",
       "</style>\n",
       "<table border=\"1\" class=\"dataframe\">\n",
       "  <thead>\n",
       "    <tr style=\"text-align: right;\">\n",
       "      <th></th>\n",
       "      <th>Interaction</th>\n",
       "      <th>City</th>\n",
       "      <th>State</th>\n",
       "      <th>County</th>\n",
       "      <th>Area</th>\n",
       "      <th>Timezone</th>\n",
       "      <th>Job</th>\n",
       "      <th>Education</th>\n",
       "      <th>Employment</th>\n",
       "      <th>Marital</th>\n",
       "      <th>...</th>\n",
       "      <th>Phone</th>\n",
       "      <th>Multiple</th>\n",
       "      <th>OnlineSecurity</th>\n",
       "      <th>OnlineBackup</th>\n",
       "      <th>DeviceProtection</th>\n",
       "      <th>TechSupport</th>\n",
       "      <th>StreamingTV</th>\n",
       "      <th>StreamingMovies</th>\n",
       "      <th>PaperlessBilling</th>\n",
       "      <th>PaymentMethod</th>\n",
       "    </tr>\n",
       "  </thead>\n",
       "  <tbody>\n",
       "    <tr>\n",
       "      <th>0</th>\n",
       "      <td>aa90260b-4141-4a24-8e36-b04ce1f4f77b</td>\n",
       "      <td>Point Baker</td>\n",
       "      <td>AK</td>\n",
       "      <td>Prince of Wales-Hyder</td>\n",
       "      <td>Urban</td>\n",
       "      <td>America/Sitka</td>\n",
       "      <td>Environmental health practitioner</td>\n",
       "      <td>Master's Degree</td>\n",
       "      <td>Part Time</td>\n",
       "      <td>Widowed</td>\n",
       "      <td>...</td>\n",
       "      <td>1</td>\n",
       "      <td>0</td>\n",
       "      <td>1</td>\n",
       "      <td>1</td>\n",
       "      <td>0</td>\n",
       "      <td>0</td>\n",
       "      <td>0</td>\n",
       "      <td>1</td>\n",
       "      <td>1</td>\n",
       "      <td>Credit Card (automatic)</td>\n",
       "    </tr>\n",
       "    <tr>\n",
       "      <th>1</th>\n",
       "      <td>fb76459f-c047-4a9d-8af9-e0f7d4ac2524</td>\n",
       "      <td>West Branch</td>\n",
       "      <td>MI</td>\n",
       "      <td>Ogemaw</td>\n",
       "      <td>Urban</td>\n",
       "      <td>America/Detroit</td>\n",
       "      <td>Programmer, multimedia</td>\n",
       "      <td>Regular High School Diploma</td>\n",
       "      <td>Retired</td>\n",
       "      <td>Married</td>\n",
       "      <td>...</td>\n",
       "      <td>1</td>\n",
       "      <td>1</td>\n",
       "      <td>1</td>\n",
       "      <td>0</td>\n",
       "      <td>0</td>\n",
       "      <td>0</td>\n",
       "      <td>1</td>\n",
       "      <td>1</td>\n",
       "      <td>1</td>\n",
       "      <td>Bank Transfer(automatic)</td>\n",
       "    </tr>\n",
       "    <tr>\n",
       "      <th>2</th>\n",
       "      <td>344d114c-3736-4be5-98f7-c72c281e2d35</td>\n",
       "      <td>Yamhill</td>\n",
       "      <td>OR</td>\n",
       "      <td>Yamhill</td>\n",
       "      <td>Urban</td>\n",
       "      <td>America/Los_Angeles</td>\n",
       "      <td>Chief Financial Officer</td>\n",
       "      <td>Regular High School Diploma</td>\n",
       "      <td>Student</td>\n",
       "      <td>Widowed</td>\n",
       "      <td>...</td>\n",
       "      <td>1</td>\n",
       "      <td>1</td>\n",
       "      <td>0</td>\n",
       "      <td>0</td>\n",
       "      <td>0</td>\n",
       "      <td>0</td>\n",
       "      <td>0</td>\n",
       "      <td>1</td>\n",
       "      <td>1</td>\n",
       "      <td>Credit Card (automatic)</td>\n",
       "    </tr>\n",
       "    <tr>\n",
       "      <th>3</th>\n",
       "      <td>abfa2b40-2d43-4994-b15a-989b8c79e311</td>\n",
       "      <td>Del Mar</td>\n",
       "      <td>CA</td>\n",
       "      <td>San Diego</td>\n",
       "      <td>Suburban</td>\n",
       "      <td>America/Los_Angeles</td>\n",
       "      <td>Solicitor</td>\n",
       "      <td>Doctorate Degree</td>\n",
       "      <td>Retired</td>\n",
       "      <td>Married</td>\n",
       "      <td>...</td>\n",
       "      <td>1</td>\n",
       "      <td>0</td>\n",
       "      <td>1</td>\n",
       "      <td>0</td>\n",
       "      <td>0</td>\n",
       "      <td>0</td>\n",
       "      <td>1</td>\n",
       "      <td>0</td>\n",
       "      <td>1</td>\n",
       "      <td>Mailed Check</td>\n",
       "    </tr>\n",
       "    <tr>\n",
       "      <th>4</th>\n",
       "      <td>68a861fd-0d20-4e51-a587-8a90407ee574</td>\n",
       "      <td>Needville</td>\n",
       "      <td>TX</td>\n",
       "      <td>Fort Bend</td>\n",
       "      <td>Suburban</td>\n",
       "      <td>America/Chicago</td>\n",
       "      <td>Medical illustrator</td>\n",
       "      <td>Master's Degree</td>\n",
       "      <td>Student</td>\n",
       "      <td>Separated</td>\n",
       "      <td>...</td>\n",
       "      <td>0</td>\n",
       "      <td>0</td>\n",
       "      <td>0</td>\n",
       "      <td>0</td>\n",
       "      <td>0</td>\n",
       "      <td>1</td>\n",
       "      <td>1</td>\n",
       "      <td>0</td>\n",
       "      <td>0</td>\n",
       "      <td>Mailed Check</td>\n",
       "    </tr>\n",
       "  </tbody>\n",
       "</table>\n",
       "<p>5 rows × 27 columns</p>\n",
       "</div>"
      ],
      "text/plain": [
       "                            Interaction         City State  \\\n",
       "0  aa90260b-4141-4a24-8e36-b04ce1f4f77b  Point Baker    AK   \n",
       "1  fb76459f-c047-4a9d-8af9-e0f7d4ac2524  West Branch    MI   \n",
       "2  344d114c-3736-4be5-98f7-c72c281e2d35      Yamhill    OR   \n",
       "3  abfa2b40-2d43-4994-b15a-989b8c79e311      Del Mar    CA   \n",
       "4  68a861fd-0d20-4e51-a587-8a90407ee574    Needville    TX   \n",
       "\n",
       "                  County      Area             Timezone  \\\n",
       "0  Prince of Wales-Hyder     Urban        America/Sitka   \n",
       "1                 Ogemaw     Urban      America/Detroit   \n",
       "2                Yamhill     Urban  America/Los_Angeles   \n",
       "3              San Diego  Suburban  America/Los_Angeles   \n",
       "4              Fort Bend  Suburban      America/Chicago   \n",
       "\n",
       "                                 Job                    Education Employment  \\\n",
       "0  Environmental health practitioner              Master's Degree  Part Time   \n",
       "1             Programmer, multimedia  Regular High School Diploma    Retired   \n",
       "2            Chief Financial Officer  Regular High School Diploma    Student   \n",
       "3                          Solicitor             Doctorate Degree    Retired   \n",
       "4                Medical illustrator              Master's Degree    Student   \n",
       "\n",
       "     Marital  ... Phone  Multiple  OnlineSecurity  OnlineBackup  \\\n",
       "0    Widowed  ...     1         0               1             1   \n",
       "1    Married  ...     1         1               1             0   \n",
       "2    Widowed  ...     1         1               0             0   \n",
       "3    Married  ...     1         0               1             0   \n",
       "4  Separated  ...     0         0               0             0   \n",
       "\n",
       "   DeviceProtection  TechSupport StreamingTV  StreamingMovies  \\\n",
       "0                 0            0           0                1   \n",
       "1                 0            0           1                1   \n",
       "2                 0            0           0                1   \n",
       "3                 0            0           1                0   \n",
       "4                 0            1           1                0   \n",
       "\n",
       "   PaperlessBilling             PaymentMethod  \n",
       "0                 1   Credit Card (automatic)  \n",
       "1                 1  Bank Transfer(automatic)  \n",
       "2                 1   Credit Card (automatic)  \n",
       "3                 1              Mailed Check  \n",
       "4                 0              Mailed Check  \n",
       "\n",
       "[5 rows x 27 columns]"
      ]
     },
     "execution_count": 80,
     "metadata": {},
     "output_type": "execute_result"
    }
   ],
   "source": [
    "# view categorical variables\n",
    "\n",
    "df[[\n",
    "    'Interaction',\n",
    "    'City',\n",
    "    'State',\n",
    "    'County',\n",
    "    'Area',\n",
    "    'Timezone',\n",
    "    'Job',\n",
    "    'Education',\n",
    "    'Employment',\n",
    "    'Marital',\n",
    "    'Gender',\n",
    "    'Churn',\n",
    "    'Techie',\n",
    "    'Contract',\n",
    "    'Port_modem',\n",
    "    'Tablet',\n",
    "    'InternetService',\n",
    "    'Phone',\n",
    "    'Multiple',\n",
    "    'OnlineSecurity',\n",
    "    'OnlineBackup',\n",
    "    'DeviceProtection',\n",
    "    'TechSupport',\n",
    "    'StreamingTV',\n",
    "    'StreamingMovies',\n",
    "    'PaperlessBilling',\n",
    "    'PaymentMethod'\n",
    "]].head(5)"
   ]
  },
  {
   "cell_type": "code",
   "execution_count": 82,
   "id": "754ff689-ceff-4b9e-a645-9b7bdf2b5d40",
   "metadata": {
    "tags": []
   },
   "outputs": [
    {
     "data": {
      "text/plain": [
       "Interaction         9985\n",
       "City                6054\n",
       "State                 52\n",
       "County              1620\n",
       "Area                   3\n",
       "Timezone              25\n",
       "Job                  639\n",
       "Education             12\n",
       "Employment             5\n",
       "Marital                5\n",
       "Gender                 3\n",
       "Churn                  2\n",
       "Techie                 2\n",
       "Contract               3\n",
       "Port_modem             2\n",
       "Tablet                 2\n",
       "InternetService        3\n",
       "Phone                  2\n",
       "Multiple               2\n",
       "OnlineSecurity         2\n",
       "OnlineBackup           2\n",
       "DeviceProtection       2\n",
       "TechSupport            2\n",
       "StreamingTV            2\n",
       "StreamingMovies        2\n",
       "PaperlessBilling       2\n",
       "PaymentMethod          4\n",
       "dtype: int64"
      ]
     },
     "execution_count": 82,
     "metadata": {},
     "output_type": "execute_result"
    }
   ],
   "source": [
    "# count unique values in each categorical variable\n",
    "# will be used to determine which variables can be re-expressed as numerical data\n",
    "# variables with 3 or fewer unique values will be re-expressed as numerical data\n",
    "\n",
    "df[[\n",
    "    'Interaction',\n",
    "    'City',\n",
    "    'State',\n",
    "    'County',\n",
    "    'Area',\n",
    "    'Timezone',\n",
    "    'Job',\n",
    "    'Education',\n",
    "    'Employment',\n",
    "    'Marital',\n",
    "    'Gender',\n",
    "    'Churn',\n",
    "    'Techie',\n",
    "    'Contract',\n",
    "    'Port_modem',\n",
    "    'Tablet',\n",
    "    'InternetService',\n",
    "    'Phone',\n",
    "    'Multiple',\n",
    "    'OnlineSecurity',\n",
    "    'OnlineBackup',\n",
    "    'DeviceProtection',\n",
    "    'TechSupport',\n",
    "    'StreamingTV',\n",
    "    'StreamingMovies',\n",
    "    'PaperlessBilling',\n",
    "    'PaymentMethod'\n",
    "]].nunique()"
   ]
  },
  {
   "cell_type": "code",
   "execution_count": 67,
   "id": "9ecd0a10-5a81-4e8c-83ea-254b72ab7746",
   "metadata": {},
   "outputs": [
    {
     "data": {
      "text/html": [
       "<div>\n",
       "<style scoped>\n",
       "    .dataframe tbody tr th:only-of-type {\n",
       "        vertical-align: middle;\n",
       "    }\n",
       "\n",
       "    .dataframe tbody tr th {\n",
       "        vertical-align: top;\n",
       "    }\n",
       "\n",
       "    .dataframe thead th {\n",
       "        text-align: right;\n",
       "    }\n",
       "</style>\n",
       "<table border=\"1\" class=\"dataframe\">\n",
       "  <thead>\n",
       "    <tr style=\"text-align: right;\">\n",
       "      <th></th>\n",
       "      <th>Area</th>\n",
       "      <th>Gender</th>\n",
       "      <th>Churn</th>\n",
       "      <th>Techie</th>\n",
       "      <th>Contract</th>\n",
       "      <th>Port_modem</th>\n",
       "      <th>Tablet</th>\n",
       "      <th>InternetService</th>\n",
       "      <th>Phone</th>\n",
       "      <th>Multiple</th>\n",
       "      <th>OnlineSecurity</th>\n",
       "      <th>OnlineBackup</th>\n",
       "      <th>DeviceProtection</th>\n",
       "      <th>TechSupport</th>\n",
       "      <th>StreamingTV</th>\n",
       "      <th>StreamingMovies</th>\n",
       "      <th>PaperlessBilling</th>\n",
       "    </tr>\n",
       "  </thead>\n",
       "  <tbody>\n",
       "    <tr>\n",
       "      <th>0</th>\n",
       "      <td>Urban</td>\n",
       "      <td>Male</td>\n",
       "      <td>0</td>\n",
       "      <td>0</td>\n",
       "      <td>One year</td>\n",
       "      <td>1</td>\n",
       "      <td>1</td>\n",
       "      <td>Fiber Optic</td>\n",
       "      <td>1</td>\n",
       "      <td>0</td>\n",
       "      <td>1</td>\n",
       "      <td>1</td>\n",
       "      <td>0</td>\n",
       "      <td>0</td>\n",
       "      <td>0</td>\n",
       "      <td>1</td>\n",
       "      <td>1</td>\n",
       "    </tr>\n",
       "    <tr>\n",
       "      <th>1</th>\n",
       "      <td>Urban</td>\n",
       "      <td>Female</td>\n",
       "      <td>1</td>\n",
       "      <td>1</td>\n",
       "      <td>Month-to-month</td>\n",
       "      <td>0</td>\n",
       "      <td>1</td>\n",
       "      <td>Fiber Optic</td>\n",
       "      <td>1</td>\n",
       "      <td>1</td>\n",
       "      <td>1</td>\n",
       "      <td>0</td>\n",
       "      <td>0</td>\n",
       "      <td>0</td>\n",
       "      <td>1</td>\n",
       "      <td>1</td>\n",
       "      <td>1</td>\n",
       "    </tr>\n",
       "    <tr>\n",
       "      <th>2</th>\n",
       "      <td>Urban</td>\n",
       "      <td>Female</td>\n",
       "      <td>0</td>\n",
       "      <td>1</td>\n",
       "      <td>Two Year</td>\n",
       "      <td>1</td>\n",
       "      <td>0</td>\n",
       "      <td>DSL</td>\n",
       "      <td>1</td>\n",
       "      <td>1</td>\n",
       "      <td>0</td>\n",
       "      <td>0</td>\n",
       "      <td>0</td>\n",
       "      <td>0</td>\n",
       "      <td>0</td>\n",
       "      <td>1</td>\n",
       "      <td>1</td>\n",
       "    </tr>\n",
       "    <tr>\n",
       "      <th>3</th>\n",
       "      <td>Suburban</td>\n",
       "      <td>Male</td>\n",
       "      <td>0</td>\n",
       "      <td>1</td>\n",
       "      <td>Two Year</td>\n",
       "      <td>0</td>\n",
       "      <td>0</td>\n",
       "      <td>DSL</td>\n",
       "      <td>1</td>\n",
       "      <td>0</td>\n",
       "      <td>1</td>\n",
       "      <td>0</td>\n",
       "      <td>0</td>\n",
       "      <td>0</td>\n",
       "      <td>1</td>\n",
       "      <td>0</td>\n",
       "      <td>1</td>\n",
       "    </tr>\n",
       "    <tr>\n",
       "      <th>4</th>\n",
       "      <td>Suburban</td>\n",
       "      <td>Male</td>\n",
       "      <td>1</td>\n",
       "      <td>0</td>\n",
       "      <td>Month-to-month</td>\n",
       "      <td>1</td>\n",
       "      <td>0</td>\n",
       "      <td>Fiber Optic</td>\n",
       "      <td>0</td>\n",
       "      <td>0</td>\n",
       "      <td>0</td>\n",
       "      <td>0</td>\n",
       "      <td>0</td>\n",
       "      <td>1</td>\n",
       "      <td>1</td>\n",
       "      <td>0</td>\n",
       "      <td>0</td>\n",
       "    </tr>\n",
       "  </tbody>\n",
       "</table>\n",
       "</div>"
      ],
      "text/plain": [
       "       Area  Gender  Churn  Techie        Contract  Port_modem  Tablet  \\\n",
       "0     Urban    Male      0       0        One year           1       1   \n",
       "1     Urban  Female      1       1  Month-to-month           0       1   \n",
       "2     Urban  Female      0       1        Two Year           1       0   \n",
       "3  Suburban    Male      0       1        Two Year           0       0   \n",
       "4  Suburban    Male      1       0  Month-to-month           1       0   \n",
       "\n",
       "  InternetService  Phone  Multiple  OnlineSecurity  OnlineBackup  \\\n",
       "0     Fiber Optic      1         0               1             1   \n",
       "1     Fiber Optic      1         1               1             0   \n",
       "2             DSL      1         1               0             0   \n",
       "3             DSL      1         0               1             0   \n",
       "4     Fiber Optic      0         0               0             0   \n",
       "\n",
       "   DeviceProtection  TechSupport  StreamingTV  StreamingMovies  \\\n",
       "0                 0            0            0                1   \n",
       "1                 0            0            1                1   \n",
       "2                 0            0            0                1   \n",
       "3                 0            0            1                0   \n",
       "4                 0            1            1                0   \n",
       "\n",
       "   PaperlessBilling  \n",
       "0                 1  \n",
       "1                 1  \n",
       "2                 1  \n",
       "3                 1  \n",
       "4                 0  "
      ]
     },
     "execution_count": 67,
     "metadata": {},
     "output_type": "execute_result"
    }
   ],
   "source": [
    "# apply ordinal encoding: yes/no values\n",
    "\n",
    "df.replace(to_replace='No', value=0, inplace=True)\n",
    "df.replace(to_replace='Yes', value=1, inplace=True)\n",
    "\n",
    "df[[\n",
    "    'Area',\n",
    "    'Gender',\n",
    "    'Churn',\n",
    "    'Techie',\n",
    "    'Contract',\n",
    "    'Port_modem',\n",
    "    'Tablet',\n",
    "    'InternetService',\n",
    "    'Phone',\n",
    "    'Multiple',\n",
    "    'OnlineSecurity',\n",
    "    'OnlineBackup',\n",
    "    'DeviceProtection',\n",
    "    'TechSupport',\n",
    "    'StreamingTV',\n",
    "    'StreamingMovies',\n",
    "    'PaperlessBilling'\n",
    "]].head(5)"
   ]
  },
  {
   "cell_type": "code",
   "execution_count": 70,
   "id": "e82c393a-248f-49db-bb8e-ae345f6f8823",
   "metadata": {},
   "outputs": [
    {
     "data": {
      "text/html": [
       "<div>\n",
       "<style scoped>\n",
       "    .dataframe tbody tr th:only-of-type {\n",
       "        vertical-align: middle;\n",
       "    }\n",
       "\n",
       "    .dataframe tbody tr th {\n",
       "        vertical-align: top;\n",
       "    }\n",
       "\n",
       "    .dataframe thead th {\n",
       "        text-align: right;\n",
       "    }\n",
       "</style>\n",
       "<table border=\"1\" class=\"dataframe\">\n",
       "  <thead>\n",
       "    <tr style=\"text-align: right;\">\n",
       "      <th></th>\n",
       "      <th>Contract</th>\n",
       "    </tr>\n",
       "  </thead>\n",
       "  <tbody>\n",
       "    <tr>\n",
       "      <th>0</th>\n",
       "      <td>1</td>\n",
       "    </tr>\n",
       "    <tr>\n",
       "      <th>1</th>\n",
       "      <td>0</td>\n",
       "    </tr>\n",
       "    <tr>\n",
       "      <th>2</th>\n",
       "      <td>2</td>\n",
       "    </tr>\n",
       "    <tr>\n",
       "      <th>3</th>\n",
       "      <td>2</td>\n",
       "    </tr>\n",
       "    <tr>\n",
       "      <th>4</th>\n",
       "      <td>0</td>\n",
       "    </tr>\n",
       "  </tbody>\n",
       "</table>\n",
       "</div>"
      ],
      "text/plain": [
       "   Contract\n",
       "0         1\n",
       "1         0\n",
       "2         2\n",
       "3         2\n",
       "4         0"
      ]
     },
     "execution_count": 70,
     "metadata": {},
     "output_type": "execute_result"
    }
   ],
   "source": [
    "# apply ordinal encoding: Contract variable\n",
    "\n",
    "contract_values = {'Month-to-month':0,\n",
    "                   'One year':1,\n",
    "                   'Two Year':2\n",
    "                  }\n",
    "\n",
    "df.replace(contract_values, inplace=True)\n",
    "df[['Contract']].head(5)"
   ]
  },
  {
   "cell_type": "code",
   "execution_count": 85,
   "id": "867c3c61-2187-4958-9728-dcfbf7d00407",
   "metadata": {},
   "outputs": [
    {
     "data": {
      "text/plain": [
       "(array(['Urban', 'Suburban', 'Rural'], dtype=object),\n",
       " array(['Male', 'Female', 'Prefer not to answer'], dtype=object))"
      ]
     },
     "execution_count": 85,
     "metadata": {},
     "output_type": "execute_result"
    }
   ],
   "source": [
    "# label encoding: Area and Gender variables\n",
    "# return unique values from Area and Gender\n",
    "\n",
    "df['Area'].unique(), df['Gender'].unique()"
   ]
  },
  {
   "cell_type": "code",
   "execution_count": 86,
   "id": "19674a09-ef4f-4f62-83fb-f4fef6a295ce",
   "metadata": {},
   "outputs": [
    {
     "data": {
      "text/html": [
       "<div>\n",
       "<style scoped>\n",
       "    .dataframe tbody tr th:only-of-type {\n",
       "        vertical-align: middle;\n",
       "    }\n",
       "\n",
       "    .dataframe tbody tr th {\n",
       "        vertical-align: top;\n",
       "    }\n",
       "\n",
       "    .dataframe thead th {\n",
       "        text-align: right;\n",
       "    }\n",
       "</style>\n",
       "<table border=\"1\" class=\"dataframe\">\n",
       "  <thead>\n",
       "    <tr style=\"text-align: right;\">\n",
       "      <th></th>\n",
       "      <th>Area</th>\n",
       "      <th>Gender</th>\n",
       "    </tr>\n",
       "  </thead>\n",
       "  <tbody>\n",
       "    <tr>\n",
       "      <th>0</th>\n",
       "      <td>2</td>\n",
       "      <td>1</td>\n",
       "    </tr>\n",
       "    <tr>\n",
       "      <th>1</th>\n",
       "      <td>2</td>\n",
       "      <td>0</td>\n",
       "    </tr>\n",
       "    <tr>\n",
       "      <th>2</th>\n",
       "      <td>2</td>\n",
       "      <td>0</td>\n",
       "    </tr>\n",
       "    <tr>\n",
       "      <th>3</th>\n",
       "      <td>1</td>\n",
       "      <td>1</td>\n",
       "    </tr>\n",
       "    <tr>\n",
       "      <th>4</th>\n",
       "      <td>1</td>\n",
       "      <td>1</td>\n",
       "    </tr>\n",
       "  </tbody>\n",
       "</table>\n",
       "</div>"
      ],
      "text/plain": [
       "   Area  Gender\n",
       "0     2       1\n",
       "1     2       0\n",
       "2     2       0\n",
       "3     1       1\n",
       "4     1       1"
      ]
     },
     "execution_count": 86,
     "metadata": {},
     "output_type": "execute_result"
    }
   ],
   "source": [
    "# apply label encoding for Area and Gender\n",
    "\n",
    "area_values = {\n",
    "    'Rural':0,\n",
    "    'Suburban':1,\n",
    "    'Urban':2\n",
    "}\n",
    "\n",
    "gender_values = {\n",
    "    'Female':0,\n",
    "    'Male':1,\n",
    "    'Prefer not to answer':2\n",
    "}\n",
    "\n",
    "df.replace(area_values, inplace=True)\n",
    "df.replace(gender_values, inplace=True)\n",
    "\n",
    "df[['Area', 'Gender']].head(5)"
   ]
  },
  {
   "cell_type": "code",
   "execution_count": 71,
   "id": "43e0910f-148d-422c-9cdb-9e2520223604",
   "metadata": {},
   "outputs": [
    {
     "data": {
      "text/plain": [
       "array(['Fiber Optic', 'DSL', 'None'], dtype=object)"
      ]
     },
     "execution_count": 71,
     "metadata": {},
     "output_type": "execute_result"
    }
   ],
   "source": [
    "# return unique values from InternetService variable\n",
    "# will be used to perform one-hot encoding\n",
    "\n",
    "df['InternetService'].unique()"
   ]
  },
  {
   "cell_type": "code",
   "execution_count": 76,
   "id": "e8c17ff3-75dd-489f-9344-93312730f2ea",
   "metadata": {},
   "outputs": [
    {
     "data": {
      "text/html": [
       "<div>\n",
       "<style scoped>\n",
       "    .dataframe tbody tr th:only-of-type {\n",
       "        vertical-align: middle;\n",
       "    }\n",
       "\n",
       "    .dataframe tbody tr th {\n",
       "        vertical-align: top;\n",
       "    }\n",
       "\n",
       "    .dataframe thead th {\n",
       "        text-align: right;\n",
       "    }\n",
       "</style>\n",
       "<table border=\"1\" class=\"dataframe\">\n",
       "  <thead>\n",
       "    <tr style=\"text-align: right;\">\n",
       "      <th></th>\n",
       "      <th>DSL</th>\n",
       "      <th>FiberOptic</th>\n",
       "    </tr>\n",
       "  </thead>\n",
       "  <tbody>\n",
       "    <tr>\n",
       "      <th>0</th>\n",
       "      <td>False</td>\n",
       "      <td>True</td>\n",
       "    </tr>\n",
       "    <tr>\n",
       "      <th>1</th>\n",
       "      <td>False</td>\n",
       "      <td>True</td>\n",
       "    </tr>\n",
       "    <tr>\n",
       "      <th>2</th>\n",
       "      <td>True</td>\n",
       "      <td>False</td>\n",
       "    </tr>\n",
       "    <tr>\n",
       "      <th>3</th>\n",
       "      <td>True</td>\n",
       "      <td>False</td>\n",
       "    </tr>\n",
       "    <tr>\n",
       "      <th>4</th>\n",
       "      <td>False</td>\n",
       "      <td>True</td>\n",
       "    </tr>\n",
       "  </tbody>\n",
       "</table>\n",
       "</div>"
      ],
      "text/plain": [
       "     DSL  FiberOptic\n",
       "0  False        True\n",
       "1  False        True\n",
       "2   True       False\n",
       "3   True       False\n",
       "4  False        True"
      ]
     },
     "execution_count": 76,
     "metadata": {},
     "output_type": "execute_result"
    }
   ],
   "source": [
    "# create new columns (FiberOptic & DSL) to perform one-hot encoding\n",
    "\n",
    "df['DSL'] = df['InternetService'].str.contains('DSL')\n",
    "df['FiberOptic'] = df['InternetService'].str.contains('Fiber Optic')\n",
    "df.drop(columns='InternetService')\n",
    "df[['DSL', 'FiberOptic']].head()"
   ]
  },
  {
   "cell_type": "code",
   "execution_count": 77,
   "id": "9b965e2e-bb6c-48b3-94d4-2a03198adc34",
   "metadata": {},
   "outputs": [
    {
     "data": {
      "text/html": [
       "<div>\n",
       "<style scoped>\n",
       "    .dataframe tbody tr th:only-of-type {\n",
       "        vertical-align: middle;\n",
       "    }\n",
       "\n",
       "    .dataframe tbody tr th {\n",
       "        vertical-align: top;\n",
       "    }\n",
       "\n",
       "    .dataframe thead th {\n",
       "        text-align: right;\n",
       "    }\n",
       "</style>\n",
       "<table border=\"1\" class=\"dataframe\">\n",
       "  <thead>\n",
       "    <tr style=\"text-align: right;\">\n",
       "      <th></th>\n",
       "      <th>DSL</th>\n",
       "      <th>FiberOptic</th>\n",
       "    </tr>\n",
       "  </thead>\n",
       "  <tbody>\n",
       "    <tr>\n",
       "      <th>0</th>\n",
       "      <td>0</td>\n",
       "      <td>1</td>\n",
       "    </tr>\n",
       "    <tr>\n",
       "      <th>1</th>\n",
       "      <td>0</td>\n",
       "      <td>1</td>\n",
       "    </tr>\n",
       "    <tr>\n",
       "      <th>2</th>\n",
       "      <td>1</td>\n",
       "      <td>0</td>\n",
       "    </tr>\n",
       "    <tr>\n",
       "      <th>3</th>\n",
       "      <td>1</td>\n",
       "      <td>0</td>\n",
       "    </tr>\n",
       "    <tr>\n",
       "      <th>4</th>\n",
       "      <td>0</td>\n",
       "      <td>1</td>\n",
       "    </tr>\n",
       "  </tbody>\n",
       "</table>\n",
       "</div>"
      ],
      "text/plain": [
       "   DSL  FiberOptic\n",
       "0    0           1\n",
       "1    0           1\n",
       "2    1           0\n",
       "3    1           0\n",
       "4    0           1"
      ]
     },
     "execution_count": 77,
     "metadata": {},
     "output_type": "execute_result"
    }
   ],
   "source": [
    "# apply ordinal encoding: True/False values\n",
    "df.replace(to_replace=False, value=0, inplace=True)\n",
    "df.replace(to_replace=True, value=1, inplace=True)\n",
    "df[['DSL', 'FiberOptic']].head()"
   ]
  },
  {
   "cell_type": "code",
   "execution_count": 87,
   "id": "7bd4e13e-81f5-4804-bd95-11c088abfb82",
   "metadata": {},
   "outputs": [],
   "source": [
    "# data cleaning and data wrangling complete\n",
    "# save results to csv\n",
    "\n",
    "#df.to_csv('output files/churn_cleaned_data.csv', header=True)"
   ]
  },
  {
   "cell_type": "markdown",
   "id": "db2bdba0-ac16-45f8-83ad-64bd1b2b4587",
   "metadata": {
    "tags": []
   },
   "source": [
    "### Principal Component Analysis"
   ]
  },
  {
   "cell_type": "code",
   "execution_count": 48,
   "id": "598ed689-689e-4ac8-92c8-272503ee0ea4",
   "metadata": {},
   "outputs": [],
   "source": [
    "# install sklearn\n",
    "# pip install scikit-learn"
   ]
  },
  {
   "cell_type": "code",
   "execution_count": 49,
   "id": "2bd9a7e1-150f-4393-8bf3-372e5bed6ec9",
   "metadata": {},
   "outputs": [],
   "source": [
    "# import libraries from sklearn to perform PCA\n",
    "from sklearn.decomposition import PCA\n",
    "from sklearn.preprocessing import StandardScaler"
   ]
  },
  {
   "cell_type": "code",
   "execution_count": 57,
   "id": "f0a62fbd-ee5f-4059-bb36-0a56ff2b6a63",
   "metadata": {},
   "outputs": [
    {
     "data": {
      "text/html": [
       "<div>\n",
       "<style scoped>\n",
       "    .dataframe tbody tr th:only-of-type {\n",
       "        vertical-align: middle;\n",
       "    }\n",
       "\n",
       "    .dataframe tbody tr th {\n",
       "        vertical-align: top;\n",
       "    }\n",
       "\n",
       "    .dataframe thead th {\n",
       "        text-align: right;\n",
       "    }\n",
       "</style>\n",
       "<table border=\"1\" class=\"dataframe\">\n",
       "  <thead>\n",
       "    <tr style=\"text-align: right;\">\n",
       "      <th></th>\n",
       "      <th>Zip</th>\n",
       "      <th>Lat</th>\n",
       "      <th>Lng</th>\n",
       "      <th>Population</th>\n",
       "      <th>Children</th>\n",
       "      <th>Age</th>\n",
       "      <th>Income</th>\n",
       "      <th>Outage_sec_perweek</th>\n",
       "      <th>Email</th>\n",
       "      <th>Contacts</th>\n",
       "      <th>...</th>\n",
       "      <th>MonthlyCharge</th>\n",
       "      <th>Bandwidth_GB_Year</th>\n",
       "      <th>item1</th>\n",
       "      <th>item2</th>\n",
       "      <th>item3</th>\n",
       "      <th>item4</th>\n",
       "      <th>item5</th>\n",
       "      <th>item6</th>\n",
       "      <th>item7</th>\n",
       "      <th>item8</th>\n",
       "    </tr>\n",
       "  </thead>\n",
       "  <tbody>\n",
       "    <tr>\n",
       "      <th>0</th>\n",
       "      <td>99927</td>\n",
       "      <td>56.25100</td>\n",
       "      <td>-133.37571</td>\n",
       "      <td>38</td>\n",
       "      <td>1.0</td>\n",
       "      <td>68.0</td>\n",
       "      <td>28561.990</td>\n",
       "      <td>6.972566</td>\n",
       "      <td>10</td>\n",
       "      <td>0</td>\n",
       "      <td>...</td>\n",
       "      <td>171.449762</td>\n",
       "      <td>904.536110</td>\n",
       "      <td>5</td>\n",
       "      <td>5</td>\n",
       "      <td>5</td>\n",
       "      <td>3</td>\n",
       "      <td>4</td>\n",
       "      <td>4</td>\n",
       "      <td>3</td>\n",
       "      <td>4</td>\n",
       "    </tr>\n",
       "    <tr>\n",
       "      <th>1</th>\n",
       "      <td>48661</td>\n",
       "      <td>44.32893</td>\n",
       "      <td>-84.24080</td>\n",
       "      <td>10446</td>\n",
       "      <td>1.0</td>\n",
       "      <td>27.0</td>\n",
       "      <td>21704.770</td>\n",
       "      <td>12.014541</td>\n",
       "      <td>12</td>\n",
       "      <td>0</td>\n",
       "      <td>...</td>\n",
       "      <td>242.948015</td>\n",
       "      <td>800.982766</td>\n",
       "      <td>3</td>\n",
       "      <td>4</td>\n",
       "      <td>3</td>\n",
       "      <td>3</td>\n",
       "      <td>4</td>\n",
       "      <td>3</td>\n",
       "      <td>4</td>\n",
       "      <td>4</td>\n",
       "    </tr>\n",
       "    <tr>\n",
       "      <th>2</th>\n",
       "      <td>97148</td>\n",
       "      <td>45.35589</td>\n",
       "      <td>-123.24657</td>\n",
       "      <td>3735</td>\n",
       "      <td>4.0</td>\n",
       "      <td>50.0</td>\n",
       "      <td>33186.785</td>\n",
       "      <td>10.245616</td>\n",
       "      <td>9</td>\n",
       "      <td>0</td>\n",
       "      <td>...</td>\n",
       "      <td>159.440398</td>\n",
       "      <td>2054.706961</td>\n",
       "      <td>4</td>\n",
       "      <td>4</td>\n",
       "      <td>2</td>\n",
       "      <td>4</td>\n",
       "      <td>4</td>\n",
       "      <td>3</td>\n",
       "      <td>3</td>\n",
       "      <td>3</td>\n",
       "    </tr>\n",
       "    <tr>\n",
       "      <th>3</th>\n",
       "      <td>92014</td>\n",
       "      <td>32.96687</td>\n",
       "      <td>-117.24798</td>\n",
       "      <td>13863</td>\n",
       "      <td>1.0</td>\n",
       "      <td>48.0</td>\n",
       "      <td>18925.230</td>\n",
       "      <td>15.206193</td>\n",
       "      <td>15</td>\n",
       "      <td>2</td>\n",
       "      <td>...</td>\n",
       "      <td>120.249493</td>\n",
       "      <td>2164.579412</td>\n",
       "      <td>4</td>\n",
       "      <td>4</td>\n",
       "      <td>4</td>\n",
       "      <td>2</td>\n",
       "      <td>5</td>\n",
       "      <td>4</td>\n",
       "      <td>3</td>\n",
       "      <td>3</td>\n",
       "    </tr>\n",
       "    <tr>\n",
       "      <th>4</th>\n",
       "      <td>77461</td>\n",
       "      <td>29.38012</td>\n",
       "      <td>-95.80673</td>\n",
       "      <td>11352</td>\n",
       "      <td>0.0</td>\n",
       "      <td>83.0</td>\n",
       "      <td>40074.190</td>\n",
       "      <td>8.960316</td>\n",
       "      <td>16</td>\n",
       "      <td>2</td>\n",
       "      <td>...</td>\n",
       "      <td>150.761216</td>\n",
       "      <td>271.493436</td>\n",
       "      <td>4</td>\n",
       "      <td>4</td>\n",
       "      <td>4</td>\n",
       "      <td>3</td>\n",
       "      <td>4</td>\n",
       "      <td>4</td>\n",
       "      <td>4</td>\n",
       "      <td>5</td>\n",
       "    </tr>\n",
       "  </tbody>\n",
       "</table>\n",
       "<p>5 rows × 22 columns</p>\n",
       "</div>"
      ],
      "text/plain": [
       "     Zip       Lat        Lng  Population  Children   Age     Income  \\\n",
       "0  99927  56.25100 -133.37571          38       1.0  68.0  28561.990   \n",
       "1  48661  44.32893  -84.24080       10446       1.0  27.0  21704.770   \n",
       "2  97148  45.35589 -123.24657        3735       4.0  50.0  33186.785   \n",
       "3  92014  32.96687 -117.24798       13863       1.0  48.0  18925.230   \n",
       "4  77461  29.38012  -95.80673       11352       0.0  83.0  40074.190   \n",
       "\n",
       "   Outage_sec_perweek  Email  Contacts  ...  MonthlyCharge  Bandwidth_GB_Year  \\\n",
       "0            6.972566     10         0  ...     171.449762         904.536110   \n",
       "1           12.014541     12         0  ...     242.948015         800.982766   \n",
       "2           10.245616      9         0  ...     159.440398        2054.706961   \n",
       "3           15.206193     15         2  ...     120.249493        2164.579412   \n",
       "4            8.960316     16         2  ...     150.761216         271.493436   \n",
       "\n",
       "   item1  item2  item3  item4  item5  item6  item7  item8  \n",
       "0      5      5      5      3      4      4      3      4  \n",
       "1      3      4      3      3      4      3      4      4  \n",
       "2      4      4      2      4      4      3      3      3  \n",
       "3      4      4      4      2      5      4      3      3  \n",
       "4      4      4      4      3      4      4      4      5  \n",
       "\n",
       "[5 rows x 22 columns]"
      ]
     },
     "execution_count": 57,
     "metadata": {},
     "output_type": "execute_result"
    }
   ],
   "source": [
    "# create DataFrame with numerical values for PCA\n",
    "variables = df[['Zip', \n",
    "             'Lat', \n",
    "             'Lng', \n",
    "             'Population', \n",
    "             'Children', \n",
    "             'Age', \n",
    "             'Income', \n",
    "             'Outage_sec_perweek', \n",
    "             'Email', \n",
    "             'Contacts', \n",
    "             'Yearly_equip_failure', \n",
    "             'Tenure', \n",
    "             'MonthlyCharge', \n",
    "             'Bandwidth_GB_Year', \n",
    "             'item1', \n",
    "             'item2', \n",
    "             'item3', \n",
    "             'item4', \n",
    "             'item5', \n",
    "             'item6', \n",
    "             'item7', \n",
    "             'item8']]\n",
    "\n",
    "variables.head(5)"
   ]
  },
  {
   "cell_type": "code",
   "execution_count": 85,
   "id": "1dc262e9-be74-4a1a-aa77-7c06534d3a7e",
   "metadata": {},
   "outputs": [],
   "source": [
    "# standardize df_pca using StandardScaler\n",
    "scaler = StandardScaler()\n",
    "scaled_variables = scaler.fit_transform(variables)"
   ]
  },
  {
   "cell_type": "code",
   "execution_count": 86,
   "id": "98fcc702-b019-4b16-9da3-f468edc46a34",
   "metadata": {},
   "outputs": [],
   "source": [
    "# apply PCA\n",
    "pca = PCA(n_components=variables.shape[1])\n",
    "pca.fit(scaled_variables)\n",
    "df_pca = pd.DataFrame(pca.transform(scaled_variables))"
   ]
  },
  {
   "cell_type": "markdown",
   "id": "8615badd-de2a-4c70-a006-d0ded64576f8",
   "metadata": {
    "tags": []
   },
   "source": [
    "#### Component Loadings Matrix"
   ]
  },
  {
   "cell_type": "code",
   "execution_count": 91,
   "id": "03cc6146-e809-4b67-928b-0cb078e1efbd",
   "metadata": {
    "tags": []
   },
   "outputs": [
    {
     "data": {
      "text/html": [
       "<div>\n",
       "<style scoped>\n",
       "    .dataframe tbody tr th:only-of-type {\n",
       "        vertical-align: middle;\n",
       "    }\n",
       "\n",
       "    .dataframe tbody tr th {\n",
       "        vertical-align: top;\n",
       "    }\n",
       "\n",
       "    .dataframe thead th {\n",
       "        text-align: right;\n",
       "    }\n",
       "</style>\n",
       "<table border=\"1\" class=\"dataframe\">\n",
       "  <thead>\n",
       "    <tr style=\"text-align: right;\">\n",
       "      <th></th>\n",
       "      <th>PC1</th>\n",
       "      <th>PC2</th>\n",
       "      <th>PC3</th>\n",
       "      <th>PC4</th>\n",
       "      <th>PC5</th>\n",
       "      <th>PC6</th>\n",
       "      <th>PC7</th>\n",
       "      <th>PC8</th>\n",
       "      <th>PC9</th>\n",
       "      <th>PC10</th>\n",
       "      <th>...</th>\n",
       "      <th>PC13</th>\n",
       "      <th>PC14</th>\n",
       "      <th>PC15</th>\n",
       "      <th>PC16</th>\n",
       "      <th>PC17</th>\n",
       "      <th>PC18</th>\n",
       "      <th>PC19</th>\n",
       "      <th>PC20</th>\n",
       "      <th>PC21</th>\n",
       "      <th>PC22</th>\n",
       "    </tr>\n",
       "  </thead>\n",
       "  <tbody>\n",
       "    <tr>\n",
       "      <th>Zip</th>\n",
       "      <td>-0.019095</td>\n",
       "      <td>0.600192</td>\n",
       "      <td>0.363128</td>\n",
       "      <td>0.046354</td>\n",
       "      <td>0.024846</td>\n",
       "      <td>0.010902</td>\n",
       "      <td>0.011785</td>\n",
       "      <td>-0.009886</td>\n",
       "      <td>0.003640</td>\n",
       "      <td>0.011171</td>\n",
       "      <td>...</td>\n",
       "      <td>-0.017520</td>\n",
       "      <td>-0.088439</td>\n",
       "      <td>-0.079827</td>\n",
       "      <td>-0.013318</td>\n",
       "      <td>-0.012102</td>\n",
       "      <td>-0.003129</td>\n",
       "      <td>-0.003764</td>\n",
       "      <td>-0.011729</td>\n",
       "      <td>0.041618</td>\n",
       "      <td>-0.697914</td>\n",
       "    </tr>\n",
       "    <tr>\n",
       "      <th>Lat</th>\n",
       "      <td>-0.001228</td>\n",
       "      <td>0.035341</td>\n",
       "      <td>-0.003549</td>\n",
       "      <td>-0.004813</td>\n",
       "      <td>-0.703410</td>\n",
       "      <td>-0.062264</td>\n",
       "      <td>-0.074408</td>\n",
       "      <td>-0.058130</td>\n",
       "      <td>-0.007343</td>\n",
       "      <td>0.036240</td>\n",
       "      <td>...</td>\n",
       "      <td>0.038377</td>\n",
       "      <td>0.493675</td>\n",
       "      <td>0.476993</td>\n",
       "      <td>0.038612</td>\n",
       "      <td>0.028615</td>\n",
       "      <td>-0.005970</td>\n",
       "      <td>0.014336</td>\n",
       "      <td>0.007984</td>\n",
       "      <td>0.007893</td>\n",
       "      <td>-0.117309</td>\n",
       "    </tr>\n",
       "    <tr>\n",
       "      <th>Lng</th>\n",
       "      <td>0.017041</td>\n",
       "      <td>-0.603352</td>\n",
       "      <td>-0.362852</td>\n",
       "      <td>-0.043906</td>\n",
       "      <td>0.061622</td>\n",
       "      <td>-0.000669</td>\n",
       "      <td>-0.001123</td>\n",
       "      <td>0.022906</td>\n",
       "      <td>-0.004795</td>\n",
       "      <td>-0.012827</td>\n",
       "      <td>...</td>\n",
       "      <td>0.004717</td>\n",
       "      <td>-0.018629</td>\n",
       "      <td>-0.019870</td>\n",
       "      <td>0.002480</td>\n",
       "      <td>0.006311</td>\n",
       "      <td>0.011827</td>\n",
       "      <td>-0.006784</td>\n",
       "      <td>0.008512</td>\n",
       "      <td>0.043576</td>\n",
       "      <td>-0.703118</td>\n",
       "    </tr>\n",
       "    <tr>\n",
       "      <th>Population</th>\n",
       "      <td>-0.002897</td>\n",
       "      <td>0.052755</td>\n",
       "      <td>0.038618</td>\n",
       "      <td>0.023827</td>\n",
       "      <td>0.675779</td>\n",
       "      <td>0.073954</td>\n",
       "      <td>0.031773</td>\n",
       "      <td>0.097242</td>\n",
       "      <td>0.066160</td>\n",
       "      <td>-0.052861</td>\n",
       "      <td>...</td>\n",
       "      <td>0.056646</td>\n",
       "      <td>0.565977</td>\n",
       "      <td>0.426016</td>\n",
       "      <td>0.050228</td>\n",
       "      <td>0.001078</td>\n",
       "      <td>-0.000291</td>\n",
       "      <td>0.000128</td>\n",
       "      <td>0.006530</td>\n",
       "      <td>0.001087</td>\n",
       "      <td>-0.030994</td>\n",
       "    </tr>\n",
       "    <tr>\n",
       "      <th>Children</th>\n",
       "      <td>0.001182</td>\n",
       "      <td>-0.028030</td>\n",
       "      <td>-0.019111</td>\n",
       "      <td>0.006893</td>\n",
       "      <td>-0.049036</td>\n",
       "      <td>0.002099</td>\n",
       "      <td>0.625065</td>\n",
       "      <td>-0.130987</td>\n",
       "      <td>0.125180</td>\n",
       "      <td>0.352832</td>\n",
       "      <td>...</td>\n",
       "      <td>0.008864</td>\n",
       "      <td>-0.011057</td>\n",
       "      <td>0.033756</td>\n",
       "      <td>-0.036135</td>\n",
       "      <td>-0.017888</td>\n",
       "      <td>0.011386</td>\n",
       "      <td>0.018414</td>\n",
       "      <td>0.007743</td>\n",
       "      <td>-0.018284</td>\n",
       "      <td>0.000615</td>\n",
       "    </tr>\n",
       "    <tr>\n",
       "      <th>Age</th>\n",
       "      <td>0.004104</td>\n",
       "      <td>0.010787</td>\n",
       "      <td>-0.016491</td>\n",
       "      <td>-0.014393</td>\n",
       "      <td>-0.020511</td>\n",
       "      <td>-0.000431</td>\n",
       "      <td>-0.450608</td>\n",
       "      <td>0.468603</td>\n",
       "      <td>-0.101755</td>\n",
       "      <td>0.511411</td>\n",
       "      <td>...</td>\n",
       "      <td>0.019429</td>\n",
       "      <td>-0.015408</td>\n",
       "      <td>-0.047725</td>\n",
       "      <td>0.000850</td>\n",
       "      <td>-0.003207</td>\n",
       "      <td>-0.011567</td>\n",
       "      <td>0.007079</td>\n",
       "      <td>-0.017290</td>\n",
       "      <td>0.020884</td>\n",
       "      <td>0.005056</td>\n",
       "    </tr>\n",
       "    <tr>\n",
       "      <th>Income</th>\n",
       "      <td>-0.000773</td>\n",
       "      <td>-0.002837</td>\n",
       "      <td>0.006777</td>\n",
       "      <td>0.024048</td>\n",
       "      <td>-0.061194</td>\n",
       "      <td>-0.008348</td>\n",
       "      <td>0.185358</td>\n",
       "      <td>0.342819</td>\n",
       "      <td>0.808775</td>\n",
       "      <td>0.202093</td>\n",
       "      <td>...</td>\n",
       "      <td>-0.071589</td>\n",
       "      <td>-0.025371</td>\n",
       "      <td>-0.003898</td>\n",
       "      <td>-0.060362</td>\n",
       "      <td>-0.006020</td>\n",
       "      <td>0.000410</td>\n",
       "      <td>0.013782</td>\n",
       "      <td>-0.004786</td>\n",
       "      <td>0.001224</td>\n",
       "      <td>0.001561</td>\n",
       "    </tr>\n",
       "    <tr>\n",
       "      <th>Outage_sec_perweek</th>\n",
       "      <td>-0.012813</td>\n",
       "      <td>-0.007869</td>\n",
       "      <td>0.019042</td>\n",
       "      <td>-0.048634</td>\n",
       "      <td>-0.085593</td>\n",
       "      <td>0.698096</td>\n",
       "      <td>0.036290</td>\n",
       "      <td>0.022503</td>\n",
       "      <td>0.018806</td>\n",
       "      <td>0.014552</td>\n",
       "      <td>...</td>\n",
       "      <td>0.694240</td>\n",
       "      <td>0.029516</td>\n",
       "      <td>-0.116921</td>\n",
       "      <td>0.006325</td>\n",
       "      <td>-0.013265</td>\n",
       "      <td>-0.016985</td>\n",
       "      <td>0.010724</td>\n",
       "      <td>0.004491</td>\n",
       "      <td>0.000546</td>\n",
       "      <td>-0.000423</td>\n",
       "    </tr>\n",
       "    <tr>\n",
       "      <th>Email</th>\n",
       "      <td>0.008323</td>\n",
       "      <td>-0.000224</td>\n",
       "      <td>-0.021347</td>\n",
       "      <td>-0.004625</td>\n",
       "      <td>0.148643</td>\n",
       "      <td>0.061973</td>\n",
       "      <td>-0.185496</td>\n",
       "      <td>-0.557410</td>\n",
       "      <td>-0.025526</td>\n",
       "      <td>0.699915</td>\n",
       "      <td>...</td>\n",
       "      <td>-0.042061</td>\n",
       "      <td>-0.012348</td>\n",
       "      <td>0.077192</td>\n",
       "      <td>-0.021543</td>\n",
       "      <td>-0.017334</td>\n",
       "      <td>0.007938</td>\n",
       "      <td>-0.010504</td>\n",
       "      <td>-0.001915</td>\n",
       "      <td>0.005333</td>\n",
       "      <td>-0.002264</td>\n",
       "    </tr>\n",
       "    <tr>\n",
       "      <th>Contacts</th>\n",
       "      <td>-0.009199</td>\n",
       "      <td>-0.008781</td>\n",
       "      <td>-0.002134</td>\n",
       "      <td>-0.011472</td>\n",
       "      <td>0.023579</td>\n",
       "      <td>0.010706</td>\n",
       "      <td>-0.465862</td>\n",
       "      <td>0.134972</td>\n",
       "      <td>0.259730</td>\n",
       "      <td>-0.038489</td>\n",
       "      <td>...</td>\n",
       "      <td>0.027570</td>\n",
       "      <td>-0.029641</td>\n",
       "      <td>0.026043</td>\n",
       "      <td>-0.033171</td>\n",
       "      <td>-0.003599</td>\n",
       "      <td>-0.026369</td>\n",
       "      <td>0.020982</td>\n",
       "      <td>0.000141</td>\n",
       "      <td>-0.002531</td>\n",
       "      <td>0.002186</td>\n",
       "    </tr>\n",
       "    <tr>\n",
       "      <th>Yearly_equip_failure</th>\n",
       "      <td>-0.007942</td>\n",
       "      <td>0.001631</td>\n",
       "      <td>0.019971</td>\n",
       "      <td>0.007835</td>\n",
       "      <td>-0.011941</td>\n",
       "      <td>0.068233</td>\n",
       "      <td>0.326999</td>\n",
       "      <td>0.546308</td>\n",
       "      <td>-0.491212</td>\n",
       "      <td>0.253749</td>\n",
       "      <td>...</td>\n",
       "      <td>-0.116867</td>\n",
       "      <td>0.019067</td>\n",
       "      <td>0.051619</td>\n",
       "      <td>0.008451</td>\n",
       "      <td>-0.012544</td>\n",
       "      <td>-0.000982</td>\n",
       "      <td>0.006916</td>\n",
       "      <td>0.021627</td>\n",
       "      <td>-0.002421</td>\n",
       "      <td>0.002789</td>\n",
       "    </tr>\n",
       "    <tr>\n",
       "      <th>Tenure</th>\n",
       "      <td>-0.011151</td>\n",
       "      <td>-0.358031</td>\n",
       "      <td>0.602507</td>\n",
       "      <td>-0.070008</td>\n",
       "      <td>-0.003827</td>\n",
       "      <td>-0.060379</td>\n",
       "      <td>-0.022833</td>\n",
       "      <td>-0.001780</td>\n",
       "      <td>-0.005183</td>\n",
       "      <td>0.024047</td>\n",
       "      <td>...</td>\n",
       "      <td>0.036553</td>\n",
       "      <td>0.002203</td>\n",
       "      <td>0.006592</td>\n",
       "      <td>-0.009458</td>\n",
       "      <td>0.007962</td>\n",
       "      <td>-0.012006</td>\n",
       "      <td>0.006098</td>\n",
       "      <td>-0.005092</td>\n",
       "      <td>-0.703587</td>\n",
       "      <td>-0.043956</td>\n",
       "    </tr>\n",
       "    <tr>\n",
       "      <th>MonthlyCharge</th>\n",
       "      <td>-0.000504</td>\n",
       "      <td>-0.036356</td>\n",
       "      <td>0.030731</td>\n",
       "      <td>-0.026343</td>\n",
       "      <td>-0.064653</td>\n",
       "      <td>0.696018</td>\n",
       "      <td>-0.055172</td>\n",
       "      <td>-0.042931</td>\n",
       "      <td>0.031069</td>\n",
       "      <td>-0.084843</td>\n",
       "      <td>...</td>\n",
       "      <td>-0.690909</td>\n",
       "      <td>0.002978</td>\n",
       "      <td>0.049110</td>\n",
       "      <td>0.009751</td>\n",
       "      <td>-0.014529</td>\n",
       "      <td>-0.000537</td>\n",
       "      <td>0.022109</td>\n",
       "      <td>0.012782</td>\n",
       "      <td>-0.048121</td>\n",
       "      <td>0.000076</td>\n",
       "    </tr>\n",
       "    <tr>\n",
       "      <th>Bandwidth_GB_Year</th>\n",
       "      <td>-0.013097</td>\n",
       "      <td>-0.358967</td>\n",
       "      <td>0.604086</td>\n",
       "      <td>-0.072400</td>\n",
       "      <td>-0.008423</td>\n",
       "      <td>-0.012896</td>\n",
       "      <td>0.003704</td>\n",
       "      <td>-0.015657</td>\n",
       "      <td>0.002306</td>\n",
       "      <td>0.007246</td>\n",
       "      <td>...</td>\n",
       "      <td>-0.010661</td>\n",
       "      <td>-0.001622</td>\n",
       "      <td>0.016032</td>\n",
       "      <td>0.003244</td>\n",
       "      <td>0.003632</td>\n",
       "      <td>-0.001659</td>\n",
       "      <td>-0.007861</td>\n",
       "      <td>-0.007248</td>\n",
       "      <td>0.705579</td>\n",
       "      <td>0.042135</td>\n",
       "    </tr>\n",
       "    <tr>\n",
       "      <th>item1</th>\n",
       "      <td>0.458839</td>\n",
       "      <td>-0.032061</td>\n",
       "      <td>0.017866</td>\n",
       "      <td>0.279382</td>\n",
       "      <td>-0.016177</td>\n",
       "      <td>0.030017</td>\n",
       "      <td>0.005650</td>\n",
       "      <td>0.004801</td>\n",
       "      <td>-0.015978</td>\n",
       "      <td>-0.006381</td>\n",
       "      <td>...</td>\n",
       "      <td>-0.004356</td>\n",
       "      <td>0.059872</td>\n",
       "      <td>-0.039567</td>\n",
       "      <td>-0.117492</td>\n",
       "      <td>-0.047872</td>\n",
       "      <td>0.025314</td>\n",
       "      <td>-0.241277</td>\n",
       "      <td>-0.792422</td>\n",
       "      <td>-0.003049</td>\n",
       "      <td>0.002281</td>\n",
       "    </tr>\n",
       "    <tr>\n",
       "      <th>item2</th>\n",
       "      <td>0.434100</td>\n",
       "      <td>-0.021808</td>\n",
       "      <td>0.036676</td>\n",
       "      <td>0.282215</td>\n",
       "      <td>-0.020480</td>\n",
       "      <td>0.017439</td>\n",
       "      <td>-0.020071</td>\n",
       "      <td>0.006347</td>\n",
       "      <td>0.001690</td>\n",
       "      <td>0.001036</td>\n",
       "      <td>...</td>\n",
       "      <td>-0.000141</td>\n",
       "      <td>0.076453</td>\n",
       "      <td>-0.075047</td>\n",
       "      <td>-0.170234</td>\n",
       "      <td>-0.069707</td>\n",
       "      <td>0.070879</td>\n",
       "      <td>-0.589989</td>\n",
       "      <td>0.574627</td>\n",
       "      <td>-0.003091</td>\n",
       "      <td>0.003238</td>\n",
       "    </tr>\n",
       "    <tr>\n",
       "      <th>item3</th>\n",
       "      <td>0.400896</td>\n",
       "      <td>-0.030781</td>\n",
       "      <td>0.022388</td>\n",
       "      <td>0.280210</td>\n",
       "      <td>-0.002167</td>\n",
       "      <td>-0.014613</td>\n",
       "      <td>-0.007982</td>\n",
       "      <td>-0.023889</td>\n",
       "      <td>-0.029091</td>\n",
       "      <td>-0.006938</td>\n",
       "      <td>...</td>\n",
       "      <td>-0.006829</td>\n",
       "      <td>0.120486</td>\n",
       "      <td>-0.128259</td>\n",
       "      <td>-0.248617</td>\n",
       "      <td>-0.147827</td>\n",
       "      <td>-0.394895</td>\n",
       "      <td>0.675026</td>\n",
       "      <td>0.175368</td>\n",
       "      <td>0.014639</td>\n",
       "      <td>-0.005127</td>\n",
       "    </tr>\n",
       "    <tr>\n",
       "      <th>item4</th>\n",
       "      <td>0.145779</td>\n",
       "      <td>0.056936</td>\n",
       "      <td>-0.022720</td>\n",
       "      <td>-0.565771</td>\n",
       "      <td>-0.001604</td>\n",
       "      <td>-0.034858</td>\n",
       "      <td>-0.005699</td>\n",
       "      <td>0.003661</td>\n",
       "      <td>-0.020226</td>\n",
       "      <td>-0.023479</td>\n",
       "      <td>...</td>\n",
       "      <td>-0.018293</td>\n",
       "      <td>0.148347</td>\n",
       "      <td>-0.099391</td>\n",
       "      <td>-0.475797</td>\n",
       "      <td>-0.446496</td>\n",
       "      <td>0.431833</td>\n",
       "      <td>0.088315</td>\n",
       "      <td>-0.017945</td>\n",
       "      <td>0.001502</td>\n",
       "      <td>0.001881</td>\n",
       "    </tr>\n",
       "    <tr>\n",
       "      <th>item5</th>\n",
       "      <td>-0.175467</td>\n",
       "      <td>-0.064818</td>\n",
       "      <td>0.036685</td>\n",
       "      <td>0.584785</td>\n",
       "      <td>-0.011352</td>\n",
       "      <td>0.027663</td>\n",
       "      <td>-0.035927</td>\n",
       "      <td>0.005047</td>\n",
       "      <td>-0.008076</td>\n",
       "      <td>-0.011042</td>\n",
       "      <td>...</td>\n",
       "      <td>0.037217</td>\n",
       "      <td>-0.091649</td>\n",
       "      <td>0.093543</td>\n",
       "      <td>0.062858</td>\n",
       "      <td>-0.206850</td>\n",
       "      <td>0.694272</td>\n",
       "      <td>0.264819</td>\n",
       "      <td>0.042115</td>\n",
       "      <td>-0.003102</td>\n",
       "      <td>0.003144</td>\n",
       "    </tr>\n",
       "    <tr>\n",
       "      <th>item6</th>\n",
       "      <td>0.404558</td>\n",
       "      <td>0.036622</td>\n",
       "      <td>0.008805</td>\n",
       "      <td>-0.181624</td>\n",
       "      <td>0.015335</td>\n",
       "      <td>0.008015</td>\n",
       "      <td>0.004678</td>\n",
       "      <td>0.004466</td>\n",
       "      <td>0.007444</td>\n",
       "      <td>0.017613</td>\n",
       "      <td>...</td>\n",
       "      <td>-0.003925</td>\n",
       "      <td>0.027570</td>\n",
       "      <td>-0.061173</td>\n",
       "      <td>0.055495</td>\n",
       "      <td>0.759188</td>\n",
       "      <td>0.401939</td>\n",
       "      <td>0.226281</td>\n",
       "      <td>0.064222</td>\n",
       "      <td>0.001574</td>\n",
       "      <td>-0.000436</td>\n",
       "    </tr>\n",
       "    <tr>\n",
       "      <th>item7</th>\n",
       "      <td>0.357793</td>\n",
       "      <td>0.020367</td>\n",
       "      <td>0.008110</td>\n",
       "      <td>-0.180668</td>\n",
       "      <td>-0.016313</td>\n",
       "      <td>-0.034304</td>\n",
       "      <td>0.009931</td>\n",
       "      <td>-0.002211</td>\n",
       "      <td>0.054229</td>\n",
       "      <td>0.029993</td>\n",
       "      <td>...</td>\n",
       "      <td>-0.020847</td>\n",
       "      <td>0.081912</td>\n",
       "      <td>-0.159793</td>\n",
       "      <td>0.806755</td>\n",
       "      <td>-0.371208</td>\n",
       "      <td>0.069205</td>\n",
       "      <td>0.066310</td>\n",
       "      <td>0.040692</td>\n",
       "      <td>-0.006689</td>\n",
       "      <td>-0.002060</td>\n",
       "    </tr>\n",
       "    <tr>\n",
       "      <th>item8</th>\n",
       "      <td>0.308580</td>\n",
       "      <td>0.025234</td>\n",
       "      <td>-0.004155</td>\n",
       "      <td>-0.131027</td>\n",
       "      <td>0.043012</td>\n",
       "      <td>0.040217</td>\n",
       "      <td>-0.000044</td>\n",
       "      <td>0.040003</td>\n",
       "      <td>-0.007988</td>\n",
       "      <td>-0.054461</td>\n",
       "      <td>...</td>\n",
       "      <td>0.101053</td>\n",
       "      <td>-0.602227</td>\n",
       "      <td>0.695379</td>\n",
       "      <td>-0.010953</td>\n",
       "      <td>-0.111276</td>\n",
       "      <td>-0.043735</td>\n",
       "      <td>0.048610</td>\n",
       "      <td>0.042543</td>\n",
       "      <td>-0.002728</td>\n",
       "      <td>-0.002228</td>\n",
       "    </tr>\n",
       "  </tbody>\n",
       "</table>\n",
       "<p>22 rows × 22 columns</p>\n",
       "</div>"
      ],
      "text/plain": [
       "                           PC1       PC2       PC3       PC4       PC5  \\\n",
       "Zip                  -0.019095  0.600192  0.363128  0.046354  0.024846   \n",
       "Lat                  -0.001228  0.035341 -0.003549 -0.004813 -0.703410   \n",
       "Lng                   0.017041 -0.603352 -0.362852 -0.043906  0.061622   \n",
       "Population           -0.002897  0.052755  0.038618  0.023827  0.675779   \n",
       "Children              0.001182 -0.028030 -0.019111  0.006893 -0.049036   \n",
       "Age                   0.004104  0.010787 -0.016491 -0.014393 -0.020511   \n",
       "Income               -0.000773 -0.002837  0.006777  0.024048 -0.061194   \n",
       "Outage_sec_perweek   -0.012813 -0.007869  0.019042 -0.048634 -0.085593   \n",
       "Email                 0.008323 -0.000224 -0.021347 -0.004625  0.148643   \n",
       "Contacts             -0.009199 -0.008781 -0.002134 -0.011472  0.023579   \n",
       "Yearly_equip_failure -0.007942  0.001631  0.019971  0.007835 -0.011941   \n",
       "Tenure               -0.011151 -0.358031  0.602507 -0.070008 -0.003827   \n",
       "MonthlyCharge        -0.000504 -0.036356  0.030731 -0.026343 -0.064653   \n",
       "Bandwidth_GB_Year    -0.013097 -0.358967  0.604086 -0.072400 -0.008423   \n",
       "item1                 0.458839 -0.032061  0.017866  0.279382 -0.016177   \n",
       "item2                 0.434100 -0.021808  0.036676  0.282215 -0.020480   \n",
       "item3                 0.400896 -0.030781  0.022388  0.280210 -0.002167   \n",
       "item4                 0.145779  0.056936 -0.022720 -0.565771 -0.001604   \n",
       "item5                -0.175467 -0.064818  0.036685  0.584785 -0.011352   \n",
       "item6                 0.404558  0.036622  0.008805 -0.181624  0.015335   \n",
       "item7                 0.357793  0.020367  0.008110 -0.180668 -0.016313   \n",
       "item8                 0.308580  0.025234 -0.004155 -0.131027  0.043012   \n",
       "\n",
       "                           PC6       PC7       PC8       PC9      PC10  ...  \\\n",
       "Zip                   0.010902  0.011785 -0.009886  0.003640  0.011171  ...   \n",
       "Lat                  -0.062264 -0.074408 -0.058130 -0.007343  0.036240  ...   \n",
       "Lng                  -0.000669 -0.001123  0.022906 -0.004795 -0.012827  ...   \n",
       "Population            0.073954  0.031773  0.097242  0.066160 -0.052861  ...   \n",
       "Children              0.002099  0.625065 -0.130987  0.125180  0.352832  ...   \n",
       "Age                  -0.000431 -0.450608  0.468603 -0.101755  0.511411  ...   \n",
       "Income               -0.008348  0.185358  0.342819  0.808775  0.202093  ...   \n",
       "Outage_sec_perweek    0.698096  0.036290  0.022503  0.018806  0.014552  ...   \n",
       "Email                 0.061973 -0.185496 -0.557410 -0.025526  0.699915  ...   \n",
       "Contacts              0.010706 -0.465862  0.134972  0.259730 -0.038489  ...   \n",
       "Yearly_equip_failure  0.068233  0.326999  0.546308 -0.491212  0.253749  ...   \n",
       "Tenure               -0.060379 -0.022833 -0.001780 -0.005183  0.024047  ...   \n",
       "MonthlyCharge         0.696018 -0.055172 -0.042931  0.031069 -0.084843  ...   \n",
       "Bandwidth_GB_Year    -0.012896  0.003704 -0.015657  0.002306  0.007246  ...   \n",
       "item1                 0.030017  0.005650  0.004801 -0.015978 -0.006381  ...   \n",
       "item2                 0.017439 -0.020071  0.006347  0.001690  0.001036  ...   \n",
       "item3                -0.014613 -0.007982 -0.023889 -0.029091 -0.006938  ...   \n",
       "item4                -0.034858 -0.005699  0.003661 -0.020226 -0.023479  ...   \n",
       "item5                 0.027663 -0.035927  0.005047 -0.008076 -0.011042  ...   \n",
       "item6                 0.008015  0.004678  0.004466  0.007444  0.017613  ...   \n",
       "item7                -0.034304  0.009931 -0.002211  0.054229  0.029993  ...   \n",
       "item8                 0.040217 -0.000044  0.040003 -0.007988 -0.054461  ...   \n",
       "\n",
       "                          PC13      PC14      PC15      PC16      PC17  \\\n",
       "Zip                  -0.017520 -0.088439 -0.079827 -0.013318 -0.012102   \n",
       "Lat                   0.038377  0.493675  0.476993  0.038612  0.028615   \n",
       "Lng                   0.004717 -0.018629 -0.019870  0.002480  0.006311   \n",
       "Population            0.056646  0.565977  0.426016  0.050228  0.001078   \n",
       "Children              0.008864 -0.011057  0.033756 -0.036135 -0.017888   \n",
       "Age                   0.019429 -0.015408 -0.047725  0.000850 -0.003207   \n",
       "Income               -0.071589 -0.025371 -0.003898 -0.060362 -0.006020   \n",
       "Outage_sec_perweek    0.694240  0.029516 -0.116921  0.006325 -0.013265   \n",
       "Email                -0.042061 -0.012348  0.077192 -0.021543 -0.017334   \n",
       "Contacts              0.027570 -0.029641  0.026043 -0.033171 -0.003599   \n",
       "Yearly_equip_failure -0.116867  0.019067  0.051619  0.008451 -0.012544   \n",
       "Tenure                0.036553  0.002203  0.006592 -0.009458  0.007962   \n",
       "MonthlyCharge        -0.690909  0.002978  0.049110  0.009751 -0.014529   \n",
       "Bandwidth_GB_Year    -0.010661 -0.001622  0.016032  0.003244  0.003632   \n",
       "item1                -0.004356  0.059872 -0.039567 -0.117492 -0.047872   \n",
       "item2                -0.000141  0.076453 -0.075047 -0.170234 -0.069707   \n",
       "item3                -0.006829  0.120486 -0.128259 -0.248617 -0.147827   \n",
       "item4                -0.018293  0.148347 -0.099391 -0.475797 -0.446496   \n",
       "item5                 0.037217 -0.091649  0.093543  0.062858 -0.206850   \n",
       "item6                -0.003925  0.027570 -0.061173  0.055495  0.759188   \n",
       "item7                -0.020847  0.081912 -0.159793  0.806755 -0.371208   \n",
       "item8                 0.101053 -0.602227  0.695379 -0.010953 -0.111276   \n",
       "\n",
       "                          PC18      PC19      PC20      PC21      PC22  \n",
       "Zip                  -0.003129 -0.003764 -0.011729  0.041618 -0.697914  \n",
       "Lat                  -0.005970  0.014336  0.007984  0.007893 -0.117309  \n",
       "Lng                   0.011827 -0.006784  0.008512  0.043576 -0.703118  \n",
       "Population           -0.000291  0.000128  0.006530  0.001087 -0.030994  \n",
       "Children              0.011386  0.018414  0.007743 -0.018284  0.000615  \n",
       "Age                  -0.011567  0.007079 -0.017290  0.020884  0.005056  \n",
       "Income                0.000410  0.013782 -0.004786  0.001224  0.001561  \n",
       "Outage_sec_perweek   -0.016985  0.010724  0.004491  0.000546 -0.000423  \n",
       "Email                 0.007938 -0.010504 -0.001915  0.005333 -0.002264  \n",
       "Contacts             -0.026369  0.020982  0.000141 -0.002531  0.002186  \n",
       "Yearly_equip_failure -0.000982  0.006916  0.021627 -0.002421  0.002789  \n",
       "Tenure               -0.012006  0.006098 -0.005092 -0.703587 -0.043956  \n",
       "MonthlyCharge        -0.000537  0.022109  0.012782 -0.048121  0.000076  \n",
       "Bandwidth_GB_Year    -0.001659 -0.007861 -0.007248  0.705579  0.042135  \n",
       "item1                 0.025314 -0.241277 -0.792422 -0.003049  0.002281  \n",
       "item2                 0.070879 -0.589989  0.574627 -0.003091  0.003238  \n",
       "item3                -0.394895  0.675026  0.175368  0.014639 -0.005127  \n",
       "item4                 0.431833  0.088315 -0.017945  0.001502  0.001881  \n",
       "item5                 0.694272  0.264819  0.042115 -0.003102  0.003144  \n",
       "item6                 0.401939  0.226281  0.064222  0.001574 -0.000436  \n",
       "item7                 0.069205  0.066310  0.040692 -0.006689 -0.002060  \n",
       "item8                -0.043735  0.048610  0.042543 -0.002728 -0.002228  \n",
       "\n",
       "[22 rows x 22 columns]"
      ]
     },
     "execution_count": 91,
     "metadata": {},
     "output_type": "execute_result"
    }
   ],
   "source": [
    "loadings = pd.DataFrame(pca.components_.T,\n",
    "                        columns = ['PC1','PC2','PC3','PC4','PC5','PC6','PC7','PC8','PC9','PC10','PC11',\n",
    "                       'PC12','PC13','PC14','PC15','PC16','PC17','PC18','PC19','PC20','PC21','PC22'],\n",
    "                        index=variables.columns)\n",
    "\n",
    "loadings"
   ]
  },
  {
   "cell_type": "code",
   "execution_count": 92,
   "id": "82cc541c-3aaa-4129-a99b-a7276346e9b6",
   "metadata": {},
   "outputs": [],
   "source": [
    "# calculate covariance, define eigenvalues\n",
    "cov_matrix = np.dot(scaled_data.T, scaled_data)/variables.shape[0]\n",
    "eigenvalues = [np.dot(eigenvector.T, np.dot(cov_matrix, eigenvector)) for eigenvector in pca.components_]"
   ]
  },
  {
   "cell_type": "code",
   "execution_count": 93,
   "id": "18adeb60-862c-4d24-82a3-23717ebbb7a9",
   "metadata": {},
   "outputs": [],
   "source": [
    "# import matplotlib for plots\n",
    "import matplotlib.pyplot as plt"
   ]
  },
  {
   "cell_type": "markdown",
   "id": "34902c05-56ee-4096-bea8-ff7b945d9558",
   "metadata": {},
   "source": [
    "### Scree Plot"
   ]
  },
  {
   "cell_type": "code",
   "execution_count": 97,
   "id": "4c9e6026-98f5-4509-b238-3d3dae870870",
   "metadata": {},
   "outputs": [
    {
     "data": {
      "image/png": "[encoded data removed]",
      "text/plain": [
       "<Figure size 640x480 with 1 Axes>"
      ]
     },
     "metadata": {},
     "output_type": "display_data"
    }
   ],
   "source": [
    "# plot eigenvalues against number of components \n",
    "plt.plot(eigenvalues)\n",
    "plt.xlabel('number of components')\n",
    "plt.ylabel('eigenvalue')\n",
    "plt.axhline(y=1, color='r')\n",
    "plt.show()"
   ]
  },
  {
   "cell_type": "markdown",
   "id": "be551185-77cb-4219-84f0-a220ae9528ac",
   "metadata": {},
   "source": [
    "## Section D.4: Verification and Outcome"
   ]
  },
  {
   "cell_type": "markdown",
   "id": "d255850d-6da4-4d95-a38a-5ac0a8e98a7c",
   "metadata": {},
   "source": [
    "## Section D.5: Output File "
   ]
  },
  {
   "cell_type": "markdown",
   "id": "a480f8e3-645e-4dbe-91eb-de90b0ae023f",
   "metadata": {},
   "source": [
    "## Section D.6: Limitations "
   ]
  },
  {
   "cell_type": "markdown",
   "id": "a7b41cd4-cf07-484d-a8ee-d6a413380b6a",
   "metadata": {},
   "source": [
    "## Section D.7: Effect on the Research Question"
   ]
  },
  {
   "cell_type": "markdown",
   "id": "ba882c2f-fa4e-4b65-80b5-ca99788c071f",
   "metadata": {},
   "source": [
    "## Section E.1: Principal Component Analysis"
   ]
  },
  {
   "cell_type": "markdown",
   "id": "3992dcc7-3790-48a7-8cd7-6865440723d5",
   "metadata": {},
   "source": [
    "A Principal Component Analysis (PCA) was performed in Section D.3: Code. The results of the PCA indicate that there are 6 principal components in the dataset."
   ]
  },
  {
   "cell_type": "markdown",
   "id": "6081b66a-b2cd-40dc-b64d-291fd07e0f56",
   "metadata": {},
   "source": [
    "## Section E.2: Kaiser Rule"
   ]
  },
  {
   "cell_type": "markdown",
   "id": "3ab6c970-70f7-4955-a7f8-6d3b952bb75d",
   "metadata": {},
   "source": [
    "The Kaiser Rule recommends retaining principal components with eigenvalues greater than 1. According to the scree plot (refer to Section D.3:Code) principal compononents 1 through 6 should be retained as they fall above this threshold."
   ]
  },
  {
   "cell_type": "markdown",
   "id": "87636dc6-ed92-436e-a9af-3eb041193899",
   "metadata": {},
   "source": [
    "## Section E.3: Benefits of PCA"
   ]
  },
  {
   "cell_type": "markdown",
   "id": "e2f7e8c4-8e15-4b2f-b46c-05225c86eba2",
   "metadata": {
    "tags": []
   },
   "source": [
    "# Part Four: Supporting Documents"
   ]
  },
  {
   "cell_type": "markdown",
   "id": "f2133469-5b39-47e9-8ac2-d51c9082b8db",
   "metadata": {
    "tags": []
   },
   "source": [
    "## Section F: Panopto Video"
   ]
  },
  {
   "cell_type": "markdown",
   "id": "027c25c5-b695-4a6a-8160-3021bb1c1ff0",
   "metadata": {},
   "source": [
    "## Section G: Web Sources"
   ]
  },
  {
   "cell_type": "markdown",
   "id": "9526607b-9043-4901-b76b-3fa29a744a20",
   "metadata": {},
   "source": [
    "- missingno (webinar/book)\n",
    "- PCA (webinar/book)\n",
    "- DataFrame.loc https://pandas.pydata.org/docs/reference/api/pandas.DataFrame.loc.html\n",
    "- pandas.Series.str.contains https://pandas.pydata.org/pandas-docs/version/0.23/generated/pandas.Series.str.contains.html\n",
    "- z-scores https://docs.scipy.org/doc/scipy/reference/generated/scipy.stats.zscore.html\n",
    "- random numbers https://numpy.org/doc/stable/reference/random/generated/numpy.random.randint.html"
   ]
  },
  {
   "cell_type": "markdown",
   "id": "637046db-6485-4bb3-bc45-68ebeb471ea4",
   "metadata": {},
   "source": [
    "## Section H: References"
   ]
  },
  {
   "cell_type": "markdown",
   "id": "cae9f089-02df-4edf-b55f-65843d85cf68",
   "metadata": {},
   "source": [
    "- handling missing values & outliers (webinar/book)\n",
    "- PCA (webinar/book)"
   ]
  },
  {
   "cell_type": "code",
   "execution_count": null,
   "id": "50799ed2-8a18-462e-bb48-f6b83bf166ab",
   "metadata": {},
   "outputs": [],
   "source": []
  }
 ],
 "metadata": {
  "kernelspec": {
   "display_name": "myenv",
   "language": "python",
   "name": "myenv"
  },
  "language_info": {
   "codemirror_mode": {
    "name": "ipython",
    "version": 3
   },
   "file_extension": ".py",
   "mimetype": "text/x-python",
   "name": "python",
   "nbconvert_exporter": "python",
   "pygments_lexer": "ipython3",
   "version": "3.9.15"
  }
 },
 "nbformat": 4,
 "nbformat_minor": 5
}
