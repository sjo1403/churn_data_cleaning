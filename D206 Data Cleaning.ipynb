{
 "cells": [
  {
   "cell_type": "markdown",
   "id": "16f05dcf-08fb-463c-8e4e-f540ebfb7ee6",
   "metadata": {},
   "source": [
    "# Part One: Research Question"
   ]
  },
  {
   "cell_type": "markdown",
   "id": "4dac955d-86aa-4ac4-84e6-cec84d6b6908",
   "metadata": {},
   "source": [
    "## Section A: [Research question here...]"
   ]
  },
  {
   "cell_type": "markdown",
   "id": "d0734c30-470c-461c-9315-a936d5060b34",
   "metadata": {},
   "source": [
    "## Section B: Data Dictionary"
   ]
  },
  {
   "cell_type": "markdown",
   "id": "59f1a417-582e-4f0f-86d9-390db9779c17",
   "metadata": {},
   "source": [
    "# Part Two: Data Cleaning Plan"
   ]
  },
  {
   "cell_type": "markdown",
   "id": "71d34c96-a0ab-4ac5-9f10-b0facef1ae1a",
   "metadata": {},
   "source": [
    "## Section C.1: Techniques & Steps"
   ]
  },
  {
   "cell_type": "markdown",
   "id": "e578c149-0d58-4af2-9e8b-cb732fa2435a",
   "metadata": {},
   "source": [
    "### Techniques\n",
    "Identify Duplicated Rows\n",
    "\n",
    "Identify Missing Values\n",
    "\n",
    "Identify Outliers"
   ]
  },
  {
   "cell_type": "markdown",
   "id": "445b4d56-bc7b-4d1d-92a9-e4cba198e66c",
   "metadata": {},
   "source": [
    "### Duplicated Rows\n",
    "Use duplicated() and sum(duplicated) functions"
   ]
  },
  {
   "cell_type": "markdown",
   "id": "3d7f128f-3f9d-445e-a81e-d34b38f345e0",
   "metadata": {},
   "source": [
    "### Missing Values\n",
    "Use isnull.sum() and msno.matrix(df) to visualize"
   ]
  },
  {
   "cell_type": "markdown",
   "id": "cde825b2-8183-492c-9277-3a0ed04e5024",
   "metadata": {},
   "source": [
    "### Identify Outliers\n",
    "Use boxplot and z-scores"
   ]
  },
  {
   "cell_type": "markdown",
   "id": "083ce074-15ea-4e39-9986-2cefe35eb150",
   "metadata": {},
   "source": [
    "## Section C.2: Assessing Data Quality"
   ]
  },
  {
   "cell_type": "markdown",
   "id": "ab12eaac-cad7-47a9-8d1c-c940d95e5e7e",
   "metadata": {},
   "source": [
    "## Section C.3: Programming Environment"
   ]
  },
  {
   "cell_type": "markdown",
   "id": "04605f2b-accc-4dc6-ae91-916ff7bcbc6b",
   "metadata": {},
   "source": [
    "## Section C.4: Code"
   ]
  },
  {
   "cell_type": "code",
   "execution_count": 60,
   "id": "254dd912-b102-4467-8a38-e148e076625e",
   "metadata": {},
   "outputs": [],
   "source": [
    "# import pandas library\n",
    "import pandas as pd"
   ]
  },
  {
   "cell_type": "code",
   "execution_count": 28,
   "id": "b515cbe3-8470-4268-bcdf-3c1b490fe18b",
   "metadata": {},
   "outputs": [],
   "source": [
    "# read churn data into DataFrame\n",
    "df = pd.read_csv('source files/churn_raw_data.csv', header='infer')"
   ]
  },
  {
   "cell_type": "code",
   "execution_count": 29,
   "id": "082e89e8-cf5e-4abe-9b5e-d6eddbc3718b",
   "metadata": {},
   "outputs": [
    {
     "data": {
      "text/plain": [
       "(10000, 52)"
      ]
     },
     "execution_count": 29,
     "metadata": {},
     "output_type": "execute_result"
    }
   ],
   "source": [
    "# get shape (rows & columns) of the DataFrame\n",
    "df.shape"
   ]
  },
  {
   "cell_type": "code",
   "execution_count": 30,
   "id": "e33ebbd0-6e6d-4b9e-bc66-b463a438454c",
   "metadata": {},
   "outputs": [
    {
     "data": {
      "text/html": [
       "<div>\n",
       "<style scoped>\n",
       "    .dataframe tbody tr th:only-of-type {\n",
       "        vertical-align: middle;\n",
       "    }\n",
       "\n",
       "    .dataframe tbody tr th {\n",
       "        vertical-align: top;\n",
       "    }\n",
       "\n",
       "    .dataframe thead th {\n",
       "        text-align: right;\n",
       "    }\n",
       "</style>\n",
       "<table border=\"1\" class=\"dataframe\">\n",
       "  <thead>\n",
       "    <tr style=\"text-align: right;\">\n",
       "      <th></th>\n",
       "      <th>Unnamed: 0</th>\n",
       "      <th>CaseOrder</th>\n",
       "      <th>Customer_id</th>\n",
       "      <th>Interaction</th>\n",
       "      <th>City</th>\n",
       "      <th>State</th>\n",
       "      <th>County</th>\n",
       "      <th>Zip</th>\n",
       "      <th>Lat</th>\n",
       "      <th>Lng</th>\n",
       "      <th>...</th>\n",
       "      <th>MonthlyCharge</th>\n",
       "      <th>Bandwidth_GB_Year</th>\n",
       "      <th>item1</th>\n",
       "      <th>item2</th>\n",
       "      <th>item3</th>\n",
       "      <th>item4</th>\n",
       "      <th>item5</th>\n",
       "      <th>item6</th>\n",
       "      <th>item7</th>\n",
       "      <th>item8</th>\n",
       "    </tr>\n",
       "  </thead>\n",
       "  <tbody>\n",
       "    <tr>\n",
       "      <th>0</th>\n",
       "      <td>1</td>\n",
       "      <td>1</td>\n",
       "      <td>K409198</td>\n",
       "      <td>aa90260b-4141-4a24-8e36-b04ce1f4f77b</td>\n",
       "      <td>Point Baker</td>\n",
       "      <td>AK</td>\n",
       "      <td>Prince of Wales-Hyder</td>\n",
       "      <td>99927</td>\n",
       "      <td>56.25100</td>\n",
       "      <td>-133.37571</td>\n",
       "      <td>...</td>\n",
       "      <td>171.449762</td>\n",
       "      <td>904.536110</td>\n",
       "      <td>5</td>\n",
       "      <td>5</td>\n",
       "      <td>5</td>\n",
       "      <td>3</td>\n",
       "      <td>4</td>\n",
       "      <td>4</td>\n",
       "      <td>3</td>\n",
       "      <td>4</td>\n",
       "    </tr>\n",
       "    <tr>\n",
       "      <th>1</th>\n",
       "      <td>2</td>\n",
       "      <td>2</td>\n",
       "      <td>S120509</td>\n",
       "      <td>fb76459f-c047-4a9d-8af9-e0f7d4ac2524</td>\n",
       "      <td>West Branch</td>\n",
       "      <td>MI</td>\n",
       "      <td>Ogemaw</td>\n",
       "      <td>48661</td>\n",
       "      <td>44.32893</td>\n",
       "      <td>-84.24080</td>\n",
       "      <td>...</td>\n",
       "      <td>242.948015</td>\n",
       "      <td>800.982766</td>\n",
       "      <td>3</td>\n",
       "      <td>4</td>\n",
       "      <td>3</td>\n",
       "      <td>3</td>\n",
       "      <td>4</td>\n",
       "      <td>3</td>\n",
       "      <td>4</td>\n",
       "      <td>4</td>\n",
       "    </tr>\n",
       "    <tr>\n",
       "      <th>2</th>\n",
       "      <td>3</td>\n",
       "      <td>3</td>\n",
       "      <td>K191035</td>\n",
       "      <td>344d114c-3736-4be5-98f7-c72c281e2d35</td>\n",
       "      <td>Yamhill</td>\n",
       "      <td>OR</td>\n",
       "      <td>Yamhill</td>\n",
       "      <td>97148</td>\n",
       "      <td>45.35589</td>\n",
       "      <td>-123.24657</td>\n",
       "      <td>...</td>\n",
       "      <td>159.440398</td>\n",
       "      <td>2054.706961</td>\n",
       "      <td>4</td>\n",
       "      <td>4</td>\n",
       "      <td>2</td>\n",
       "      <td>4</td>\n",
       "      <td>4</td>\n",
       "      <td>3</td>\n",
       "      <td>3</td>\n",
       "      <td>3</td>\n",
       "    </tr>\n",
       "    <tr>\n",
       "      <th>3</th>\n",
       "      <td>4</td>\n",
       "      <td>4</td>\n",
       "      <td>D90850</td>\n",
       "      <td>abfa2b40-2d43-4994-b15a-989b8c79e311</td>\n",
       "      <td>Del Mar</td>\n",
       "      <td>CA</td>\n",
       "      <td>San Diego</td>\n",
       "      <td>92014</td>\n",
       "      <td>32.96687</td>\n",
       "      <td>-117.24798</td>\n",
       "      <td>...</td>\n",
       "      <td>120.249493</td>\n",
       "      <td>2164.579412</td>\n",
       "      <td>4</td>\n",
       "      <td>4</td>\n",
       "      <td>4</td>\n",
       "      <td>2</td>\n",
       "      <td>5</td>\n",
       "      <td>4</td>\n",
       "      <td>3</td>\n",
       "      <td>3</td>\n",
       "    </tr>\n",
       "    <tr>\n",
       "      <th>4</th>\n",
       "      <td>5</td>\n",
       "      <td>5</td>\n",
       "      <td>K662701</td>\n",
       "      <td>68a861fd-0d20-4e51-a587-8a90407ee574</td>\n",
       "      <td>Needville</td>\n",
       "      <td>TX</td>\n",
       "      <td>Fort Bend</td>\n",
       "      <td>77461</td>\n",
       "      <td>29.38012</td>\n",
       "      <td>-95.80673</td>\n",
       "      <td>...</td>\n",
       "      <td>150.761216</td>\n",
       "      <td>271.493436</td>\n",
       "      <td>4</td>\n",
       "      <td>4</td>\n",
       "      <td>4</td>\n",
       "      <td>3</td>\n",
       "      <td>4</td>\n",
       "      <td>4</td>\n",
       "      <td>4</td>\n",
       "      <td>5</td>\n",
       "    </tr>\n",
       "  </tbody>\n",
       "</table>\n",
       "<p>5 rows × 52 columns</p>\n",
       "</div>"
      ],
      "text/plain": [
       "   Unnamed: 0  CaseOrder Customer_id                           Interaction  \\\n",
       "0           1          1     K409198  aa90260b-4141-4a24-8e36-b04ce1f4f77b   \n",
       "1           2          2     S120509  fb76459f-c047-4a9d-8af9-e0f7d4ac2524   \n",
       "2           3          3     K191035  344d114c-3736-4be5-98f7-c72c281e2d35   \n",
       "3           4          4      D90850  abfa2b40-2d43-4994-b15a-989b8c79e311   \n",
       "4           5          5     K662701  68a861fd-0d20-4e51-a587-8a90407ee574   \n",
       "\n",
       "          City State                 County    Zip       Lat        Lng  ...  \\\n",
       "0  Point Baker    AK  Prince of Wales-Hyder  99927  56.25100 -133.37571  ...   \n",
       "1  West Branch    MI                 Ogemaw  48661  44.32893  -84.24080  ...   \n",
       "2      Yamhill    OR                Yamhill  97148  45.35589 -123.24657  ...   \n",
       "3      Del Mar    CA              San Diego  92014  32.96687 -117.24798  ...   \n",
       "4    Needville    TX              Fort Bend  77461  29.38012  -95.80673  ...   \n",
       "\n",
       "   MonthlyCharge Bandwidth_GB_Year item1 item2  item3  item4 item5 item6  \\\n",
       "0     171.449762        904.536110     5     5      5      3     4     4   \n",
       "1     242.948015        800.982766     3     4      3      3     4     3   \n",
       "2     159.440398       2054.706961     4     4      2      4     4     3   \n",
       "3     120.249493       2164.579412     4     4      4      2     5     4   \n",
       "4     150.761216        271.493436     4     4      4      3     4     4   \n",
       "\n",
       "   item7 item8  \n",
       "0      3     4  \n",
       "1      4     4  \n",
       "2      3     3  \n",
       "3      3     3  \n",
       "4      4     5  \n",
       "\n",
       "[5 rows x 52 columns]"
      ]
     },
     "execution_count": 30,
     "metadata": {},
     "output_type": "execute_result"
    }
   ],
   "source": [
    "# get header and first 5 rows of the DataFrame\n",
    "df.head(5)"
   ]
  },
  {
   "cell_type": "code",
   "execution_count": 34,
   "id": "f62275a4-604e-43f7-be36-b4fae0b216d8",
   "metadata": {},
   "outputs": [
    {
     "name": "stdout",
     "output_type": "stream",
     "text": [
      "<class 'pandas.core.frame.DataFrame'>\n",
      "RangeIndex: 10000 entries, 0 to 9999\n",
      "Data columns (total 52 columns):\n",
      " #   Column                Non-Null Count  Dtype  \n",
      "---  ------                --------------  -----  \n",
      " 0   Unnamed: 0            10000 non-null  int64  \n",
      " 1   CaseOrder             10000 non-null  int64  \n",
      " 2   Customer_id           10000 non-null  object \n",
      " 3   Interaction           10000 non-null  object \n",
      " 4   City                  10000 non-null  object \n",
      " 5   State                 10000 non-null  object \n",
      " 6   County                10000 non-null  object \n",
      " 7   Zip                   10000 non-null  int64  \n",
      " 8   Lat                   10000 non-null  float64\n",
      " 9   Lng                   10000 non-null  float64\n",
      " 10  Population            10000 non-null  int64  \n",
      " 11  Area                  10000 non-null  object \n",
      " 12  Timezone              10000 non-null  object \n",
      " 13  Job                   10000 non-null  object \n",
      " 14  Children              7505 non-null   float64\n",
      " 15  Age                   7525 non-null   float64\n",
      " 16  Education             10000 non-null  object \n",
      " 17  Employment            10000 non-null  object \n",
      " 18  Income                7510 non-null   float64\n",
      " 19  Marital               10000 non-null  object \n",
      " 20  Gender                10000 non-null  object \n",
      " 21  Churn                 10000 non-null  object \n",
      " 22  Outage_sec_perweek    10000 non-null  float64\n",
      " 23  Email                 10000 non-null  int64  \n",
      " 24  Contacts              10000 non-null  int64  \n",
      " 25  Yearly_equip_failure  10000 non-null  int64  \n",
      " 26  Techie                7523 non-null   object \n",
      " 27  Contract              10000 non-null  object \n",
      " 28  Port_modem            10000 non-null  object \n",
      " 29  Tablet                10000 non-null  object \n",
      " 30  InternetService       10000 non-null  object \n",
      " 31  Phone                 8974 non-null   object \n",
      " 32  Multiple              10000 non-null  object \n",
      " 33  OnlineSecurity        10000 non-null  object \n",
      " 34  OnlineBackup          10000 non-null  object \n",
      " 35  DeviceProtection      10000 non-null  object \n",
      " 36  TechSupport           9009 non-null   object \n",
      " 37  StreamingTV           10000 non-null  object \n",
      " 38  StreamingMovies       10000 non-null  object \n",
      " 39  PaperlessBilling      10000 non-null  object \n",
      " 40  PaymentMethod         10000 non-null  object \n",
      " 41  Tenure                9069 non-null   float64\n",
      " 42  MonthlyCharge         10000 non-null  float64\n",
      " 43  Bandwidth_GB_Year     8979 non-null   float64\n",
      " 44  item1                 10000 non-null  int64  \n",
      " 45  item2                 10000 non-null  int64  \n",
      " 46  item3                 10000 non-null  int64  \n",
      " 47  item4                 10000 non-null  int64  \n",
      " 48  item5                 10000 non-null  int64  \n",
      " 49  item6                 10000 non-null  int64  \n",
      " 50  item7                 10000 non-null  int64  \n",
      " 51  item8                 10000 non-null  int64  \n",
      "dtypes: float64(9), int64(15), object(28)\n",
      "memory usage: 4.0+ MB\n"
     ]
    }
   ],
   "source": [
    "# view information about the DataFrame\n",
    "df.info()"
   ]
  },
  {
   "cell_type": "markdown",
   "id": "fa4d9324-a89c-438f-a5b5-ccfca0ec4367",
   "metadata": {
    "jp-MarkdownHeadingCollapsed": true,
    "tags": []
   },
   "source": [
    "### Duplicated Rows"
   ]
  },
  {
   "cell_type": "code",
   "execution_count": 56,
   "id": "cfe529ed-9919-4809-a2d6-f8f065c1c2d9",
   "metadata": {},
   "outputs": [
    {
     "data": {
      "text/html": [
       "<div>\n",
       "<style scoped>\n",
       "    .dataframe tbody tr th:only-of-type {\n",
       "        vertical-align: middle;\n",
       "    }\n",
       "\n",
       "    .dataframe tbody tr th {\n",
       "        vertical-align: top;\n",
       "    }\n",
       "\n",
       "    .dataframe thead th {\n",
       "        text-align: right;\n",
       "    }\n",
       "</style>\n",
       "<table border=\"1\" class=\"dataframe\">\n",
       "  <thead>\n",
       "    <tr style=\"text-align: right;\">\n",
       "      <th></th>\n",
       "      <th>Unnamed: 0</th>\n",
       "      <th>CaseOrder</th>\n",
       "      <th>Customer_id</th>\n",
       "      <th>Interaction</th>\n",
       "      <th>City</th>\n",
       "      <th>State</th>\n",
       "      <th>County</th>\n",
       "      <th>Zip</th>\n",
       "      <th>Lat</th>\n",
       "      <th>Lng</th>\n",
       "      <th>...</th>\n",
       "      <th>MonthlyCharge</th>\n",
       "      <th>Bandwidth_GB_Year</th>\n",
       "      <th>item1</th>\n",
       "      <th>item2</th>\n",
       "      <th>item3</th>\n",
       "      <th>item4</th>\n",
       "      <th>item5</th>\n",
       "      <th>item6</th>\n",
       "      <th>item7</th>\n",
       "      <th>item8</th>\n",
       "    </tr>\n",
       "  </thead>\n",
       "  <tbody>\n",
       "  </tbody>\n",
       "</table>\n",
       "<p>0 rows × 52 columns</p>\n",
       "</div>"
      ],
      "text/plain": [
       "Empty DataFrame\n",
       "Columns: [Unnamed: 0, CaseOrder, Customer_id, Interaction, City, State, County, Zip, Lat, Lng, Population, Area, Timezone, Job, Children, Age, Education, Employment, Income, Marital, Gender, Churn, Outage_sec_perweek, Email, Contacts, Yearly_equip_failure, Techie, Contract, Port_modem, Tablet, InternetService, Phone, Multiple, OnlineSecurity, OnlineBackup, DeviceProtection, TechSupport, StreamingTV, StreamingMovies, PaperlessBilling, PaymentMethod, Tenure, MonthlyCharge, Bandwidth_GB_Year, item1, item2, item3, item4, item5, item6, item7, item8]\n",
       "Index: []\n",
       "\n",
       "[0 rows x 52 columns]"
      ]
     },
     "execution_count": 56,
     "metadata": {},
     "output_type": "execute_result"
    }
   ],
   "source": [
    "# return duplicated rows\n",
    "df[df.duplicated() == True]"
   ]
  },
  {
   "cell_type": "markdown",
   "id": "034aaf14-f662-4436-8ffe-7abc8091dcad",
   "metadata": {
    "jp-MarkdownHeadingCollapsed": true,
    "tags": []
   },
   "source": [
    "### Missing Values"
   ]
  },
  {
   "cell_type": "code",
   "execution_count": 59,
   "id": "63febd31-f40f-4395-abae-65ae36530c48",
   "metadata": {},
   "outputs": [
    {
     "data": {
      "text/plain": [
       "Unnamed: 0                 0\n",
       "CaseOrder                  0\n",
       "Customer_id                0\n",
       "Interaction                0\n",
       "City                       0\n",
       "State                      0\n",
       "County                     0\n",
       "Zip                        0\n",
       "Lat                        0\n",
       "Lng                        0\n",
       "Population                 0\n",
       "Area                       0\n",
       "Timezone                   0\n",
       "Job                        0\n",
       "Children                2495\n",
       "Age                     2475\n",
       "Education                  0\n",
       "Employment                 0\n",
       "Income                  2490\n",
       "Marital                    0\n",
       "Gender                     0\n",
       "Churn                      0\n",
       "Outage_sec_perweek         0\n",
       "Email                      0\n",
       "Contacts                   0\n",
       "Yearly_equip_failure       0\n",
       "Techie                  2477\n",
       "Contract                   0\n",
       "Port_modem                 0\n",
       "Tablet                     0\n",
       "InternetService            0\n",
       "Phone                   1026\n",
       "Multiple                   0\n",
       "OnlineSecurity             0\n",
       "OnlineBackup               0\n",
       "DeviceProtection           0\n",
       "TechSupport              991\n",
       "StreamingTV                0\n",
       "StreamingMovies            0\n",
       "PaperlessBilling           0\n",
       "PaymentMethod              0\n",
       "Tenure                   931\n",
       "MonthlyCharge              0\n",
       "Bandwidth_GB_Year       1021\n",
       "item1                      0\n",
       "item2                      0\n",
       "item3                      0\n",
       "item4                      0\n",
       "item5                      0\n",
       "item6                      0\n",
       "item7                      0\n",
       "item8                      0\n",
       "dtype: int64"
      ]
     },
     "execution_count": 59,
     "metadata": {},
     "output_type": "execute_result"
    }
   ],
   "source": [
    "# find the sum of missing values for each column\n",
    "df.isnull().sum()"
   ]
  },
  {
   "cell_type": "code",
   "execution_count": 65,
   "id": "3fd058f8-510d-442e-980c-8c58e7bac423",
   "metadata": {
    "tags": []
   },
   "outputs": [],
   "source": [
    "# install missingno using pip\n",
    "# !pip install missingno"
   ]
  },
  {
   "cell_type": "code",
   "execution_count": 64,
   "id": "f9793fa9-2827-4d8f-a7e1-0764c980a6b5",
   "metadata": {},
   "outputs": [],
   "source": [
    "# import missingno to visualize missing values\n",
    "import missingno as msno"
   ]
  },
  {
   "cell_type": "code",
   "execution_count": 79,
   "id": "426107f8-46fe-4590-9076-c60bcc737037",
   "metadata": {},
   "outputs": [
    {
     "data": {
      "text/plain": [
       "Children             2495\n",
       "Age                  2475\n",
       "Income               2490\n",
       "Techie               2477\n",
       "Phone                1026\n",
       "TechSupport           991\n",
       "Tenure                931\n",
       "Bandwidth_GB_Year    1021\n",
       "dtype: int64"
      ]
     },
     "execution_count": 79,
     "metadata": {},
     "output_type": "execute_result"
    }
   ],
   "source": [
    "# isolate columns with missing values and add them to a new DataFrame\n",
    "df_missing = df.loc[:, df.isnull().sum() > 0]\n",
    "df_missing.isnull().sum()"
   ]
  },
  {
   "cell_type": "code",
   "execution_count": 80,
   "id": "f709e8a3-c397-417a-a2c0-01c3e8f126e1",
   "metadata": {},
   "outputs": [
    {
     "data": {
      "text/plain": [
       "<Axes: >"
      ]
     },
     "execution_count": 80,
     "metadata": {},
     "output_type": "execute_result"
    },
    {
     "data": {
      "image/png": "[encoded data removed]",
      "text/plain": [
       "<Figure size 2500x1000 with 2 Axes>"
      ]
     },
     "metadata": {},
     "output_type": "display_data"
    }
   ],
   "source": [
    "# generate matrix of missing values\n",
    "msno.matrix(df_missing)"
   ]
  },
  {
   "cell_type": "code",
   "execution_count": 88,
   "id": "424f8528-8426-4634-b211-da7c5c5635f7",
   "metadata": {},
   "outputs": [
    {
     "data": {
      "text/plain": [
       "array([[<Axes: title={'center': 'Children'}>,\n",
       "        <Axes: title={'center': 'Age'}>,\n",
       "        <Axes: title={'center': 'Income'}>,\n",
       "        <Axes: title={'center': 'Tenure'}>,\n",
       "        <Axes: title={'center': 'Bandwidth_GB_Year'}>]], dtype=object)"
      ]
     },
     "execution_count": 88,
     "metadata": {},
     "output_type": "execute_result"
    },
    {
     "data": {
      "image/png": "[encoded data removed]",
      "text/plain": [
       "<Figure size 1500x200 with 5 Axes>"
      ]
     },
     "metadata": {},
     "output_type": "display_data"
    }
   ],
   "source": [
    "# use histograms to check columns in df_missing for skewness\n",
    "df_missing.hist(figsize=(15,2), layout=(1,5))"
   ]
  },
  {
   "cell_type": "markdown",
   "id": "5f78f578-cdc7-43c1-be2b-9216e12c3879",
   "metadata": {
    "jp-MarkdownHeadingCollapsed": true,
    "tags": []
   },
   "source": [
    "### Outliers"
   ]
  },
  {
   "cell_type": "code",
   "execution_count": 90,
   "id": "877ed8df-d341-4626-b3ee-34792b8c24bb",
   "metadata": {},
   "outputs": [
    {
     "data": {
      "text/html": [
       "<div>\n",
       "<style scoped>\n",
       "    .dataframe tbody tr th:only-of-type {\n",
       "        vertical-align: middle;\n",
       "    }\n",
       "\n",
       "    .dataframe tbody tr th {\n",
       "        vertical-align: top;\n",
       "    }\n",
       "\n",
       "    .dataframe thead th {\n",
       "        text-align: right;\n",
       "    }\n",
       "</style>\n",
       "<table border=\"1\" class=\"dataframe\">\n",
       "  <thead>\n",
       "    <tr style=\"text-align: right;\">\n",
       "      <th></th>\n",
       "      <th>Children</th>\n",
       "      <th>Age</th>\n",
       "      <th>Income</th>\n",
       "      <th>Outage_sec_perweek</th>\n",
       "      <th>Email</th>\n",
       "      <th>Contacts</th>\n",
       "      <th>Yearly_equip_failure</th>\n",
       "      <th>Tenure</th>\n",
       "      <th>MonthlyCharge</th>\n",
       "      <th>Bandwidth_GB_Year</th>\n",
       "    </tr>\n",
       "  </thead>\n",
       "  <tbody>\n",
       "    <tr>\n",
       "      <th>0</th>\n",
       "      <td>NaN</td>\n",
       "      <td>68.0</td>\n",
       "      <td>28561.99</td>\n",
       "      <td>6.972566</td>\n",
       "      <td>10</td>\n",
       "      <td>0</td>\n",
       "      <td>1</td>\n",
       "      <td>6.795513</td>\n",
       "      <td>171.449762</td>\n",
       "      <td>904.536110</td>\n",
       "    </tr>\n",
       "    <tr>\n",
       "      <th>1</th>\n",
       "      <td>1.0</td>\n",
       "      <td>27.0</td>\n",
       "      <td>21704.77</td>\n",
       "      <td>12.014541</td>\n",
       "      <td>12</td>\n",
       "      <td>0</td>\n",
       "      <td>1</td>\n",
       "      <td>1.156681</td>\n",
       "      <td>242.948015</td>\n",
       "      <td>800.982766</td>\n",
       "    </tr>\n",
       "    <tr>\n",
       "      <th>2</th>\n",
       "      <td>4.0</td>\n",
       "      <td>50.0</td>\n",
       "      <td>NaN</td>\n",
       "      <td>10.245616</td>\n",
       "      <td>9</td>\n",
       "      <td>0</td>\n",
       "      <td>1</td>\n",
       "      <td>15.754144</td>\n",
       "      <td>159.440398</td>\n",
       "      <td>2054.706961</td>\n",
       "    </tr>\n",
       "    <tr>\n",
       "      <th>3</th>\n",
       "      <td>1.0</td>\n",
       "      <td>48.0</td>\n",
       "      <td>18925.23</td>\n",
       "      <td>15.206193</td>\n",
       "      <td>15</td>\n",
       "      <td>2</td>\n",
       "      <td>0</td>\n",
       "      <td>17.087227</td>\n",
       "      <td>120.249493</td>\n",
       "      <td>2164.579412</td>\n",
       "    </tr>\n",
       "    <tr>\n",
       "      <th>4</th>\n",
       "      <td>0.0</td>\n",
       "      <td>83.0</td>\n",
       "      <td>40074.19</td>\n",
       "      <td>8.960316</td>\n",
       "      <td>16</td>\n",
       "      <td>2</td>\n",
       "      <td>1</td>\n",
       "      <td>1.670972</td>\n",
       "      <td>150.761216</td>\n",
       "      <td>271.493436</td>\n",
       "    </tr>\n",
       "  </tbody>\n",
       "</table>\n",
       "</div>"
      ],
      "text/plain": [
       "   Children   Age    Income  Outage_sec_perweek  Email  Contacts  \\\n",
       "0       NaN  68.0  28561.99            6.972566     10         0   \n",
       "1       1.0  27.0  21704.77           12.014541     12         0   \n",
       "2       4.0  50.0       NaN           10.245616      9         0   \n",
       "3       1.0  48.0  18925.23           15.206193     15         2   \n",
       "4       0.0  83.0  40074.19            8.960316     16         2   \n",
       "\n",
       "   Yearly_equip_failure     Tenure  MonthlyCharge  Bandwidth_GB_Year  \n",
       "0                     1   6.795513     171.449762         904.536110  \n",
       "1                     1   1.156681     242.948015         800.982766  \n",
       "2                     1  15.754144     159.440398        2054.706961  \n",
       "3                     0  17.087227     120.249493        2164.579412  \n",
       "4                     1   1.670972     150.761216         271.493436  "
      ]
     },
     "execution_count": 90,
     "metadata": {},
     "output_type": "execute_result"
    }
   ],
   "source": [
    "# isolate columns with numerical data relevant for outlier analysis\n",
    "df_numericals = df[['Children', \n",
    "                    'Age', \n",
    "                    'Income', \n",
    "                    'Outage_sec_perweek', \n",
    "                    'Email', \n",
    "                    'Contacts', \n",
    "                    'Yearly_equip_failure', \n",
    "                    'Tenure', \n",
    "                    'MonthlyCharge', \n",
    "                    'Bandwidth_GB_Year']]\n",
    "\n",
    "df_numericals.head(5)"
   ]
  },
  {
   "cell_type": "code",
   "execution_count": 97,
   "id": "2e3b3d29-f32a-4100-8008-731926043cd7",
   "metadata": {},
   "outputs": [
    {
     "data": {
      "text/plain": [
       "<Axes: >"
      ]
     },
     "execution_count": 97,
     "metadata": {},
     "output_type": "execute_result"
    },
    {
     "data": {
      "image/png": "[encoded data removed]",
      "text/plain": [
       "<Figure size 640x480 with 1 Axes>"
      ]
     },
     "metadata": {},
     "output_type": "display_data"
    }
   ],
   "source": [
    "df_numericals.boxplot(column='Children')"
   ]
  },
  {
   "cell_type": "code",
   "execution_count": 98,
   "id": "a5115752-7b1c-4d4e-9d2e-57c4e7cc8d35",
   "metadata": {},
   "outputs": [
    {
     "data": {
      "text/plain": [
       "<Axes: >"
      ]
     },
     "execution_count": 98,
     "metadata": {},
     "output_type": "execute_result"
    },
    {
     "data": {
      "image/png": "[encoded data removed]",
      "text/plain": [
       "<Figure size 640x480 with 1 Axes>"
      ]
     },
     "metadata": {},
     "output_type": "display_data"
    }
   ],
   "source": [
    "df_numericals.boxplot(column='Age')"
   ]
  },
  {
   "cell_type": "code",
   "execution_count": 99,
   "id": "5b215e23-bb85-457f-a828-d0c8c7c2d9e1",
   "metadata": {},
   "outputs": [
    {
     "data": {
      "text/plain": [
       "<Axes: >"
      ]
     },
     "execution_count": 99,
     "metadata": {},
     "output_type": "execute_result"
    },
    {
     "data": {
      "image/png": "[encoded data removed]",
      "text/plain": [
       "<Figure size 640x480 with 1 Axes>"
      ]
     },
     "metadata": {},
     "output_type": "display_data"
    }
   ],
   "source": [
    "df_numericals.boxplot(column='Income')"
   ]
  },
  {
   "cell_type": "code",
   "execution_count": 100,
   "id": "eb313e82-dc33-4685-89b2-3c0e2caba46d",
   "metadata": {},
   "outputs": [
    {
     "data": {
      "text/plain": [
       "<Axes: >"
      ]
     },
     "execution_count": 100,
     "metadata": {},
     "output_type": "execute_result"
    },
    {
     "data": {
      "image/png": "[encoded data removed]",
      "text/plain": [
       "<Figure size 640x480 with 1 Axes>"
      ]
     },
     "metadata": {},
     "output_type": "display_data"
    }
   ],
   "source": [
    "df_numericals.boxplot(column='Outage_sec_perweek')"
   ]
  },
  {
   "cell_type": "code",
   "execution_count": 101,
   "id": "4cfd4f9f-d15c-4739-9d27-9c566d9f1838",
   "metadata": {},
   "outputs": [
    {
     "data": {
      "text/plain": [
       "<Axes: >"
      ]
     },
     "execution_count": 101,
     "metadata": {},
     "output_type": "execute_result"
    },
    {
     "data": {
      "image/png": "[encoded data removed]",
      "text/plain": [
       "<Figure size 640x480 with 1 Axes>"
      ]
     },
     "metadata": {},
     "output_type": "display_data"
    }
   ],
   "source": [
    "df_numericals.boxplot(column='Email')"
   ]
  },
  {
   "cell_type": "code",
   "execution_count": 102,
   "id": "5ba31c46-bacf-4355-a904-f4864ace386e",
   "metadata": {},
   "outputs": [
    {
     "data": {
      "text/plain": [
       "<Axes: >"
      ]
     },
     "execution_count": 102,
     "metadata": {},
     "output_type": "execute_result"
    },
    {
     "data": {
      "image/png": "[encoded data removed]",
      "text/plain": [
       "<Figure size 640x480 with 1 Axes>"
      ]
     },
     "metadata": {},
     "output_type": "display_data"
    }
   ],
   "source": [
    "df_numericals.boxplot(column='Contacts')"
   ]
  },
  {
   "cell_type": "code",
   "execution_count": 104,
   "id": "018753c1-26a6-43bf-9ff1-21ecc86b851c",
   "metadata": {},
   "outputs": [
    {
     "data": {
      "text/plain": [
       "<Axes: >"
      ]
     },
     "execution_count": 104,
     "metadata": {},
     "output_type": "execute_result"
    },
    {
     "data": {
      "image/png": "[encoded data removed]",
      "text/plain": [
       "<Figure size 640x480 with 1 Axes>"
      ]
     },
     "metadata": {},
     "output_type": "display_data"
    }
   ],
   "source": [
    "df_numericals.boxplot(column='Yearly_equip_failure')"
   ]
  },
  {
   "cell_type": "code",
   "execution_count": 105,
   "id": "321ab381-69ae-4e79-85e5-6a1ead543697",
   "metadata": {},
   "outputs": [
    {
     "data": {
      "text/plain": [
       "<Axes: >"
      ]
     },
     "execution_count": 105,
     "metadata": {},
     "output_type": "execute_result"
    },
    {
     "data": {
      "image/png": "[encoded data removed]",
      "text/plain": [
       "<Figure size 640x480 with 1 Axes>"
      ]
     },
     "metadata": {},
     "output_type": "display_data"
    }
   ],
   "source": [
    "df_numericals.boxplot(column='Tenure')"
   ]
  },
  {
   "cell_type": "code",
   "execution_count": 106,
   "id": "c09d2d11-ab72-40cc-aba0-87e7c0424dd7",
   "metadata": {},
   "outputs": [
    {
     "data": {
      "text/plain": [
       "<Axes: >"
      ]
     },
     "execution_count": 106,
     "metadata": {},
     "output_type": "execute_result"
    },
    {
     "data": {
      "image/png": "[encoded data removed]",
      "text/plain": [
       "<Figure size 640x480 with 1 Axes>"
      ]
     },
     "metadata": {},
     "output_type": "display_data"
    }
   ],
   "source": [
    "df_numericals.boxplot(column='MonthlyCharge')"
   ]
  },
  {
   "cell_type": "code",
   "execution_count": 107,
   "id": "3226f063-68de-4843-b39e-c19bbf1b96be",
   "metadata": {},
   "outputs": [
    {
     "data": {
      "text/plain": [
       "<Axes: >"
      ]
     },
     "execution_count": 107,
     "metadata": {},
     "output_type": "execute_result"
    },
    {
     "data": {
      "image/png": "[encoded data removed]",
      "text/plain": [
       "<Figure size 640x480 with 1 Axes>"
      ]
     },
     "metadata": {},
     "output_type": "display_data"
    }
   ],
   "source": [
    "df_numericals.boxplot(column='Bandwidth_GB_Year')"
   ]
  },
  {
   "cell_type": "code",
   "execution_count": 116,
   "id": "75ecadd0-fed0-4327-823a-b15a5572f2ff",
   "metadata": {},
   "outputs": [],
   "source": [
    "# import scipy.stats to calculate z-scores\n",
    "from scipy import stats"
   ]
  },
  {
   "cell_type": "code",
   "execution_count": 123,
   "id": "8eeb4714-4e94-4d25-aac3-b9a73a54e566",
   "metadata": {},
   "outputs": [],
   "source": [
    "# create a new DataFrame to hold z-scores for columns that contain outliers\n",
    "data = {\n",
    "    'Children':[], \n",
    "    'Income':[], \n",
    "    'Outage_sec_perweek':[], \n",
    "    'Email':[], \n",
    "    'Contacts':[], \n",
    "    'Yearly_equip_failure':[],  \n",
    "    'MonthlyCharge':[]\n",
    "       }\n",
    "\n",
    "df_zscores = pd.DataFrame(data)"
   ]
  },
  {
   "cell_type": "code",
   "execution_count": 124,
   "id": "3720c0b1-242b-41e8-a96c-78f795058757",
   "metadata": {},
   "outputs": [
    {
     "data": {
      "text/html": [
       "<div>\n",
       "<style scoped>\n",
       "    .dataframe tbody tr th:only-of-type {\n",
       "        vertical-align: middle;\n",
       "    }\n",
       "\n",
       "    .dataframe tbody tr th {\n",
       "        vertical-align: top;\n",
       "    }\n",
       "\n",
       "    .dataframe thead th {\n",
       "        text-align: right;\n",
       "    }\n",
       "</style>\n",
       "<table border=\"1\" class=\"dataframe\">\n",
       "  <thead>\n",
       "    <tr style=\"text-align: right;\">\n",
       "      <th></th>\n",
       "      <th>Children</th>\n",
       "      <th>Income</th>\n",
       "      <th>Outage_sec_perweek</th>\n",
       "      <th>Email</th>\n",
       "      <th>Contacts</th>\n",
       "      <th>Yearly_equip_failure</th>\n",
       "      <th>MonthlyCharge</th>\n",
       "    </tr>\n",
       "  </thead>\n",
       "  <tbody>\n",
       "    <tr>\n",
       "      <th>0</th>\n",
       "      <td>NaN</td>\n",
       "      <td>-0.401133</td>\n",
       "      <td>-0.637726</td>\n",
       "      <td>-0.666282</td>\n",
       "      <td>-1.005852</td>\n",
       "      <td>0.946658</td>\n",
       "      <td>-0.060613</td>\n",
       "    </tr>\n",
       "    <tr>\n",
       "      <th>1</th>\n",
       "      <td>-0.508646</td>\n",
       "      <td>-0.642955</td>\n",
       "      <td>0.079935</td>\n",
       "      <td>-0.005288</td>\n",
       "      <td>-1.005852</td>\n",
       "      <td>0.946658</td>\n",
       "      <td>1.589348</td>\n",
       "    </tr>\n",
       "    <tr>\n",
       "      <th>2</th>\n",
       "      <td>0.883715</td>\n",
       "      <td>NaN</td>\n",
       "      <td>-0.171849</td>\n",
       "      <td>-0.996779</td>\n",
       "      <td>-1.005852</td>\n",
       "      <td>0.946658</td>\n",
       "      <td>-0.337752</td>\n",
       "    </tr>\n",
       "    <tr>\n",
       "      <th>3</th>\n",
       "      <td>-0.508646</td>\n",
       "      <td>-0.740976</td>\n",
       "      <td>0.534225</td>\n",
       "      <td>0.986203</td>\n",
       "      <td>1.017588</td>\n",
       "      <td>-0.625864</td>\n",
       "      <td>-1.242158</td>\n",
       "    </tr>\n",
       "    <tr>\n",
       "      <th>4</th>\n",
       "      <td>-0.972766</td>\n",
       "      <td>0.004846</td>\n",
       "      <td>-0.354795</td>\n",
       "      <td>1.316700</td>\n",
       "      <td>1.017588</td>\n",
       "      <td>0.946658</td>\n",
       "      <td>-0.538041</td>\n",
       "    </tr>\n",
       "  </tbody>\n",
       "</table>\n",
       "</div>"
      ],
      "text/plain": [
       "   Children    Income  Outage_sec_perweek     Email  Contacts  \\\n",
       "0       NaN -0.401133           -0.637726 -0.666282 -1.005852   \n",
       "1 -0.508646 -0.642955            0.079935 -0.005288 -1.005852   \n",
       "2  0.883715       NaN           -0.171849 -0.996779 -1.005852   \n",
       "3 -0.508646 -0.740976            0.534225  0.986203  1.017588   \n",
       "4 -0.972766  0.004846           -0.354795  1.316700  1.017588   \n",
       "\n",
       "   Yearly_equip_failure  MonthlyCharge  \n",
       "0              0.946658      -0.060613  \n",
       "1              0.946658       1.589348  \n",
       "2              0.946658      -0.337752  \n",
       "3             -0.625864      -1.242158  \n",
       "4              0.946658      -0.538041  "
      ]
     },
     "execution_count": 124,
     "metadata": {},
     "output_type": "execute_result"
    }
   ],
   "source": [
    "# add z-scores to df_zscores\n",
    "df_zscores['Children'] = stats.zscore(df_numericals['Children'], nan_policy='omit')\n",
    "df_zscores['Income'] = stats.zscore(df_numericals['Income'], nan_policy='omit')\n",
    "df_zscores['Outage_sec_perweek'] = stats.zscore(df_numericals['Outage_sec_perweek'], nan_policy='omit')\n",
    "df_zscores['Email'] = stats.zscore(df_numericals['Email'], nan_policy='omit')\n",
    "df_zscores['Contacts'] = stats.zscore(df_numericals['Contacts'], nan_policy='omit')\n",
    "df_zscores['Yearly_equip_failure'] = stats.zscore(df_numericals['Yearly_equip_failure'], nan_policy='omit')\n",
    "df_zscores['MonthlyCharge'] = stats.zscore(df_numericals['MonthlyCharge'], nan_policy='omit')\n",
    "\n",
    "df_zscores.head(5)"
   ]
  },
  {
   "cell_type": "code",
   "execution_count": 147,
   "id": "1162fb7d-3954-4400-9a1f-ce637362854f",
   "metadata": {},
   "outputs": [
    {
     "data": {
      "text/plain": [
       "30      3.204316\n",
       "97      3.668436\n",
       "144     3.668436\n",
       "329     3.204316\n",
       "334     3.204316\n",
       "          ...   \n",
       "9599    3.668436\n",
       "9623    3.668436\n",
       "9790    3.668436\n",
       "9871    3.668436\n",
       "9901    3.204316\n",
       "Name: Children, Length: 144, dtype: float64"
      ]
     },
     "execution_count": 147,
     "metadata": {},
     "output_type": "execute_result"
    }
   ],
   "source": [
    "# return records where absolute value of z-score is greater than or equal to 3, Children column\n",
    "df_zscores[df_zscores['Children'].abs() > 3]['Children']"
   ]
  },
  {
   "cell_type": "code",
   "execution_count": 148,
   "id": "ba39c2ea-2006-45f7-a8be-27293a7306a7",
   "metadata": {},
   "outputs": [
    {
     "data": {
      "text/plain": [
       "46      3.250729\n",
       "130     3.028507\n",
       "186     3.378085\n",
       "470     4.119111\n",
       "511     3.757785\n",
       "          ...   \n",
       "9615    3.187357\n",
       "9639    3.879732\n",
       "9656    3.416552\n",
       "9849    3.332790\n",
       "9876    3.122070\n",
       "Name: Income, Length: 110, dtype: float64"
      ]
     },
     "execution_count": 148,
     "metadata": {},
     "output_type": "execute_result"
    }
   ],
   "source": [
    "# return records where absolute value of z-score is greater than or equal to 3, Income column\n",
    "df_zscores[df_zscores['Income'].abs() > 3]['Income']"
   ]
  },
  {
   "cell_type": "code",
   "execution_count": 149,
   "id": "773ae2e4-4296-4574-8de1-9fba21ceb8b1",
   "metadata": {},
   "outputs": [
    {
     "data": {
      "text/plain": [
       "28      4.622272\n",
       "36      4.735879\n",
       "40      3.907495\n",
       "61      4.046782\n",
       "130     4.020157\n",
       "          ...   \n",
       "9894    4.703786\n",
       "9895    4.160788\n",
       "9907    3.853321\n",
       "9945    3.968939\n",
       "9950    4.201985\n",
       "Name: Outage_sec_perweek, Length: 491, dtype: float64"
      ]
     },
     "execution_count": 149,
     "metadata": {},
     "output_type": "execute_result"
    }
   ],
   "source": [
    "# return records where absolute value of z-score is greater than or equal to 3, Outage_sec_perweek column\n",
    "df_zscores[df_zscores['Outage_sec_perweek'].abs() > 3]['Outage_sec_perweek']"
   ]
  },
  {
   "cell_type": "code",
   "execution_count": 150,
   "id": "7aa2af2c-a00e-4816-b597-28a18a758ff8",
   "metadata": {},
   "outputs": [
    {
     "data": {
      "text/plain": [
       "795    -3.310257\n",
       "1152   -3.310257\n",
       "1381   -3.640754\n",
       "1399   -3.310257\n",
       "1473    3.630178\n",
       "1746    3.299681\n",
       "6320   -3.640754\n",
       "7408   -3.310257\n",
       "8365   -3.640754\n",
       "8948   -3.310257\n",
       "9248   -3.310257\n",
       "9475    3.299681\n",
       "Name: Email, dtype: float64"
      ]
     },
     "execution_count": 150,
     "metadata": {},
     "output_type": "execute_result"
    }
   ],
   "source": [
    "# return records where absolute value of z-score is greater than or equal to 3, Email column\n",
    "df_zscores[df_zscores['Email'].abs() > 3]['Email']"
   ]
  },
  {
   "cell_type": "code",
   "execution_count": 151,
   "id": "c6ac37ee-aa2c-471b-bef0-c7d4288d74cb",
   "metadata": {},
   "outputs": [
    {
     "data": {
      "text/plain": [
       "88      3.041027\n",
       "129     3.041027\n",
       "187     4.052747\n",
       "205     3.041027\n",
       "345     3.041027\n",
       "          ...   \n",
       "9799    3.041027\n",
       "9805    3.041027\n",
       "9828    3.041027\n",
       "9923    3.041027\n",
       "9972    3.041027\n",
       "Name: Contacts, Length: 165, dtype: float64"
      ]
     },
     "execution_count": 151,
     "metadata": {},
     "output_type": "execute_result"
    }
   ],
   "source": [
    "# return records where absolute value of z-score is greater than or equal to 3, Contacts column\n",
    "df_zscores[df_zscores['Contacts'].abs() > 3]['Contacts']"
   ]
  },
  {
   "cell_type": "code",
   "execution_count": 152,
   "id": "41e55be9-e016-44e4-8105-31793575ffda",
   "metadata": {},
   "outputs": [
    {
     "data": {
      "text/plain": [
       "8       4.091701\n",
       "20      4.091701\n",
       "171     4.091701\n",
       "592     4.091701\n",
       "621     4.091701\n",
       "          ...   \n",
       "9623    5.664222\n",
       "9674    4.091701\n",
       "9763    5.664222\n",
       "9769    4.091701\n",
       "9967    4.091701\n",
       "Name: Yearly_equip_failure, Length: 94, dtype: float64"
      ]
     },
     "execution_count": 152,
     "metadata": {},
     "output_type": "execute_result"
    }
   ],
   "source": [
    "# return records where absolute value of z-score is greater than or equal to 3, Yearly_equip_failure column\n",
    "df_zscores[df_zscores['Yearly_equip_failure'].abs() > 3]['Yearly_equip_failure']"
   ]
  },
  {
   "cell_type": "code",
   "execution_count": 153,
   "id": "40f116ba-c49c-4ea3-8a06-ba50c2b9c09f",
   "metadata": {},
   "outputs": [
    {
     "data": {
      "text/plain": [
       "927     3.079659\n",
       "3746    3.272363\n",
       "4700    3.050579\n",
       "Name: MonthlyCharge, dtype: float64"
      ]
     },
     "execution_count": 153,
     "metadata": {},
     "output_type": "execute_result"
    }
   ],
   "source": [
    "# return records where absolute value of z-score is greater than or equal to 3, MonthlyCharge column\n",
    "df_zscores[df_zscores['MonthlyCharge'].abs() > 3]['MonthlyCharge']"
   ]
  },
  {
   "cell_type": "markdown",
   "id": "87fc5f58-840d-454e-b55d-b9c088f78d93",
   "metadata": {},
   "source": [
    "# Part Three: Data Cleaning"
   ]
  },
  {
   "cell_type": "markdown",
   "id": "fe3a0ab1-c160-469b-af91-4be1c9a7d04d",
   "metadata": {},
   "source": [
    "## Section D.1: Data Quality Findings"
   ]
  },
  {
   "cell_type": "markdown",
   "id": "2bcdc1bb-f77b-4abc-893c-23893bb28ea4",
   "metadata": {},
   "source": [
    "## Section D.2: Methods "
   ]
  },
  {
   "cell_type": "markdown",
   "id": "d748a151-781d-4b99-929c-8a2ab5ae01a1",
   "metadata": {},
   "source": [
    "## Section D.3: Code "
   ]
  },
  {
   "cell_type": "markdown",
   "id": "be551185-77cb-4219-84f0-a220ae9528ac",
   "metadata": {},
   "source": [
    "## Section D.4: Verification and Outcome"
   ]
  },
  {
   "cell_type": "markdown",
   "id": "d255850d-6da4-4d95-a38a-5ac0a8e98a7c",
   "metadata": {},
   "source": [
    "## Section D.5: Output File "
   ]
  },
  {
   "cell_type": "markdown",
   "id": "a480f8e3-645e-4dbe-91eb-de90b0ae023f",
   "metadata": {},
   "source": [
    "## Section D.6: Limitations "
   ]
  },
  {
   "cell_type": "markdown",
   "id": "a7b41cd4-cf07-484d-a8ee-d6a413380b6a",
   "metadata": {},
   "source": [
    "## Section D.7: Effect on the Research Question"
   ]
  },
  {
   "cell_type": "markdown",
   "id": "ba882c2f-fa4e-4b65-80b5-ca99788c071f",
   "metadata": {},
   "source": [
    "## Section E.1: Principal Component Analysis"
   ]
  },
  {
   "cell_type": "markdown",
   "id": "6081b66a-b2cd-40dc-b64d-291fd07e0f56",
   "metadata": {},
   "source": [
    "## Section E.2: Kaiser Rule"
   ]
  },
  {
   "cell_type": "markdown",
   "id": "87636dc6-ed92-436e-a9af-3eb041193899",
   "metadata": {},
   "source": [
    "## Section E.3: Benefits of PCA"
   ]
  },
  {
   "cell_type": "markdown",
   "id": "e2f7e8c4-8e15-4b2f-b46c-05225c86eba2",
   "metadata": {
    "tags": []
   },
   "source": [
    "# Part Four: Supporting Documents"
   ]
  },
  {
   "cell_type": "markdown",
   "id": "f2133469-5b39-47e9-8ac2-d51c9082b8db",
   "metadata": {
    "jp-MarkdownHeadingCollapsed": true,
    "tags": []
   },
   "source": [
    "## Section F: Panopto Video"
   ]
  },
  {
   "cell_type": "markdown",
   "id": "027c25c5-b695-4a6a-8160-3021bb1c1ff0",
   "metadata": {},
   "source": [
    "## Section G: Web Sources"
   ]
  },
  {
   "cell_type": "markdown",
   "id": "9526607b-9043-4901-b76b-3fa29a744a20",
   "metadata": {},
   "source": [
    "- missingno (webinar/book)\n",
    "- DataFrame.loc https://pandas.pydata.org/docs/reference/api/pandas.DataFrame.loc.html\n",
    "- z-scores https://docs.scipy.org/doc/scipy/reference/generated/scipy.stats.zscore.html"
   ]
  },
  {
   "cell_type": "markdown",
   "id": "637046db-6485-4bb3-bc45-68ebeb471ea4",
   "metadata": {},
   "source": [
    "## Section H: References"
   ]
  },
  {
   "cell_type": "code",
   "execution_count": null,
   "id": "b0641510-f0c9-4bd3-9107-d36b066d79b7",
   "metadata": {},
   "outputs": [],
   "source": []
  }
 ],
 "metadata": {
  "kernelspec": {
   "display_name": "myenv",
   "language": "python",
   "name": "myenv"
  },
  "language_info": {
   "codemirror_mode": {
    "name": "ipython",
    "version": 3
   },
   "file_extension": ".py",
   "mimetype": "text/x-python",
   "name": "python",
   "nbconvert_exporter": "python",
   "pygments_lexer": "ipython3",
   "version": "3.9.15"
  }
 },
 "nbformat": 4,
 "nbformat_minor": 5
}
